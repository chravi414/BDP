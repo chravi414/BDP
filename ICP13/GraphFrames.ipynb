{
 "cells": [
  {
   "cell_type": "code",
   "execution_count": 1,
   "metadata": {},
   "outputs": [],
   "source": [
    "# Importing Libraries\n",
    "from pyspark import SparkContext,SQLContext\n",
    "from graphframes import *\n",
    "from pyspark.sql import functions as f"
   ]
  },
  {
   "cell_type": "code",
   "execution_count": 2,
   "metadata": {},
   "outputs": [],
   "source": [
    "# Setting Graphframes package variable\n",
    "import os\n",
    "os.environ[\"PYSPARK_SUBMIT_ARGS\"] = (\"--packages  graphframes:graphframes:0.8.0-spark2.4-s_2.11 pyspark-shell\")"
   ]
  },
  {
   "cell_type": "code",
   "execution_count": 3,
   "metadata": {},
   "outputs": [],
   "source": [
    "# creating sql context\n",
    "sc = SparkContext.getOrCreate()\n",
    "sqlcontext=SQLContext(sc)"
   ]
  },
  {
   "cell_type": "code",
   "execution_count": 4,
   "metadata": {},
   "outputs": [],
   "source": [
    "# Importing the Datasets\n",
    "station_df= sqlcontext.read.format(\"csv\").option(\"header\", \"true\").csv('201508_station_data.csv')\n",
    "trips_df= sqlcontext.read.format(\"csv\").option(\"header\", \"true\").csv('201508_trip_data.csv')"
   ]
  },
  {
   "cell_type": "code",
   "execution_count": 5,
   "metadata": {},
   "outputs": [
    {
     "name": "stdout",
     "output_type": "stream",
     "text": [
      "+----------+--------------------+---------+-----------+---------+------------+------------+\n",
      "|station_id|                name|      lat|       long|dockcount|    landmark|installation|\n",
      "+----------+--------------------+---------+-----------+---------+------------+------------+\n",
      "|         2|San Jose Diridon ...|37.329732|-121.901782|       27|    San Jose|    8/6/2013|\n",
      "|         3|San Jose Civic Ce...|37.330698|-121.888979|       15|    San Jose|    8/5/2013|\n",
      "|         4|Santa Clara at Al...|37.333988|-121.894902|       11|    San Jose|    8/6/2013|\n",
      "|         5|    Adobe on Almaden|37.331415|  -121.8932|       19|    San Jose|    8/5/2013|\n",
      "|         6|    San Pedro Square|37.336721|-121.894074|       15|    San Jose|    8/7/2013|\n",
      "|         7|Paseo de San Antonio|37.333798|-121.886943|       15|    San Jose|    8/7/2013|\n",
      "|         8| San Salvador at 1st|37.330165|-121.885831|       15|    San Jose|    8/5/2013|\n",
      "|         9|           Japantown|37.348742|-121.894715|       15|    San Jose|    8/5/2013|\n",
      "|        10|  San Jose City Hall|37.337391|-121.886995|       15|    San Jose|    8/6/2013|\n",
      "|        11|         MLK Library|37.335885| -121.88566|       19|    San Jose|    8/6/2013|\n",
      "|        12|SJSU 4th at San C...|37.332808|-121.883891|       19|    San Jose|    8/7/2013|\n",
      "|        13|       St James Park|37.339301|-121.889937|       15|    San Jose|    8/6/2013|\n",
      "|        14|Arena Green / SAP...|37.332692|-121.900084|       19|    San Jose|    8/5/2013|\n",
      "|        16|SJSU - San Salvad...|37.333955|-121.877349|       15|    San Jose|    8/7/2013|\n",
      "|        21|   Franklin at Maple|37.481758|-122.226904|       15|Redwood City|   8/12/2013|\n",
      "|        22|Redwood City Calt...|37.486078|-122.232089|       25|Redwood City|   8/15/2013|\n",
      "|        23|San Mateo County ...|37.487616|-122.229951|       15|Redwood City|   8/15/2013|\n",
      "|        24|Redwood City Publ...|37.484219|-122.227424|       15|Redwood City|   8/12/2013|\n",
      "|        25|Stanford in Redwo...| 37.48537|-122.203288|       15|Redwood City|   8/12/2013|\n",
      "|        26|Redwood City Medi...|37.487682|-122.223492|       15|Redwood City|   8/12/2013|\n",
      "+----------+--------------------+---------+-----------+---------+------------+------------+\n",
      "only showing top 20 rows\n",
      "\n"
     ]
    }
   ],
   "source": [
    "# Checking the sample of data\n",
    "station_df.show()"
   ]
  },
  {
   "cell_type": "code",
   "execution_count": 6,
   "metadata": {},
   "outputs": [
    {
     "name": "stdout",
     "output_type": "stream",
     "text": [
      "+-------+--------+---------------+--------------------+--------------+---------------+--------------------+------------+------+---------------+--------+\n",
      "|Trip ID|Duration|     Start Date|       Start Station|Start Terminal|       End Date|         End Station|End Terminal|Bike #|Subscriber Type|Zip Code|\n",
      "+-------+--------+---------------+--------------------+--------------+---------------+--------------------+------------+------+---------------+--------+\n",
      "| 913460|     765|8/31/2015 23:26|Harry Bridges Pla...|            50|8/31/2015 23:39|San Francisco Cal...|          70|   288|     Subscriber|    2139|\n",
      "| 913459|    1036|8/31/2015 23:11|San Antonio Shopp...|            31|8/31/2015 23:28|Mountain View Cit...|          27|    35|     Subscriber|   95032|\n",
      "| 913455|     307|8/31/2015 23:13|      Post at Kearny|            47|8/31/2015 23:18|   2nd at South Park|          64|   468|     Subscriber|   94107|\n",
      "| 913454|     409|8/31/2015 23:10|  San Jose City Hall|            10|8/31/2015 23:17| San Salvador at 1st|           8|    68|     Subscriber|   95113|\n",
      "| 913453|     789|8/31/2015 23:09|Embarcadero at Fo...|            51|8/31/2015 23:22|Embarcadero at Sa...|          60|   487|       Customer|    9069|\n",
      "| 913452|     293|8/31/2015 23:07|Yerba Buena Cente...|            68|8/31/2015 23:12|San Francisco Cal...|          70|   538|     Subscriber|   94118|\n",
      "| 913451|     896|8/31/2015 23:07|Embarcadero at Fo...|            51|8/31/2015 23:22|Embarcadero at Sa...|          60|   363|       Customer|   92562|\n",
      "| 913450|     255|8/31/2015 22:16|Embarcadero at Sa...|            60|8/31/2015 22:20|   Steuart at Market|          74|   470|     Subscriber|   94111|\n",
      "| 913449|     126|8/31/2015 22:12|     Beale at Market|            56|8/31/2015 22:15|Temporary Transba...|          55|   439|     Subscriber|   94130|\n",
      "| 913448|     932|8/31/2015 21:57|      Post at Kearny|            47|8/31/2015 22:12|South Van Ness at...|          66|   472|     Subscriber|   94702|\n",
      "| 913443|     691|8/31/2015 21:49|Embarcadero at Sa...|            60|8/31/2015 22:01|   Market at Sansome|          77|   434|     Subscriber|   94109|\n",
      "| 913442|     633|8/31/2015 21:44|      Market at 10th|            67|8/31/2015 21:54|San Francisco Cal...|          70|   531|     Subscriber|   94107|\n",
      "| 913441|     387|8/31/2015 21:39|       Market at 4th|            76|8/31/2015 21:46|Grant Avenue at C...|          73|   383|     Subscriber|   94104|\n",
      "| 913440|     281|8/31/2015 21:31|   Market at Sansome|            77|8/31/2015 21:36|Broadway St at Ba...|          82|   621|     Subscriber|   94107|\n",
      "| 913435|     424|8/31/2015 21:25|Temporary Transba...|            55|8/31/2015 21:33|San Francisco Cal...|          69|   602|     Subscriber|   94401|\n",
      "| 913434|     283|8/31/2015 21:19|San Francisco Cal...|            69|8/31/2015 21:24|     Townsend at 7th|          65|   521|     Subscriber|   94107|\n",
      "| 913433|     145|8/31/2015 21:17|University and Em...|            35|8/31/2015 21:20|Cowper at University|          37|    75|       Customer|    6907|\n",
      "| 913432|     703|8/31/2015 21:16|     Spear at Folsom|            49|8/31/2015 21:28|San Francisco Cal...|          69|   426|     Subscriber|   95032|\n",
      "| 913431|     605|8/31/2015 21:11|Temporary Transba...|            55|8/31/2015 21:21|Grant Avenue at C...|          73|   572|     Subscriber|   94133|\n",
      "| 913429|     902|8/31/2015 21:07|San Francisco Cal...|            70|8/31/2015 21:22|Broadway St at Ba...|          82|   501|     Subscriber|   94133|\n",
      "+-------+--------+---------------+--------------------+--------------+---------------+--------------------+------------+------+---------------+--------+\n",
      "only showing top 20 rows\n",
      "\n"
     ]
    }
   ],
   "source": [
    "# Checking the sample of data\n",
    "trips_df.show()"
   ]
  },
  {
   "cell_type": "code",
   "execution_count": 7,
   "metadata": {},
   "outputs": [],
   "source": [
    "# Vertices and Edges\n",
    "vertices = station_df.withColumnRenamed(\"name\",\"id\").distinct()\n",
    "edges = trips_df.withColumnRenamed(\"Start Station\",\"src\").withColumnRenamed(\"End Station\",\"dst\")"
   ]
  },
  {
   "cell_type": "code",
   "execution_count": 8,
   "metadata": {},
   "outputs": [
    {
     "name": "stdout",
     "output_type": "stream",
     "text": [
      "+----------+--------------------+---------+-----------+---------+-------------+------------+\n",
      "|station_id|                  id|      lat|       long|dockcount|     landmark|installation|\n",
      "+----------+--------------------+---------+-----------+---------+-------------+------------+\n",
      "|        51|Embarcadero at Fo...|37.791464|-122.391034|       19|San Francisco|   8/20/2013|\n",
      "|        58|San Francisco Cit...| 37.77865|-122.418235|       19|San Francisco|   8/21/2013|\n",
      "|        60|Embarcadero at Sa...| 37.80477|-122.403234|       15|San Francisco|   8/21/2013|\n",
      "|        65|     Townsend at 7th|37.771058|-122.402717|       15|San Francisco|   8/22/2013|\n",
      "|        63|       Howard at 2nd|37.786978|-122.398108|       19|San Francisco|   8/22/2013|\n",
      "|        33|Rengstorff Avenue...|37.400241|-122.099076|       15|Mountain View|   8/16/2013|\n",
      "|        25|Stanford in Redwo...| 37.48537|-122.203288|       15| Redwood City|   8/12/2013|\n",
      "|        71|Powell at Post (U...|37.788446|-122.408499|       19|San Francisco|   8/23/2013|\n",
      "|        77|   Market at Sansome|37.789625|-122.400811|       27|San Francisco|   8/25/2013|\n",
      "|        84|         Ryland Park|37.342725|-121.895617|       15|     San Jose|    4/9/2014|\n",
      "|        72|Civic Center BART...|37.781039|-122.411748|       23|San Francisco|   8/23/2013|\n",
      "|        12|SJSU 4th at San C...|37.332808|-121.883891|       19|     San Jose|    8/7/2013|\n",
      "|        39|  Powell Street BART|37.783871|-122.408433|       19|San Francisco|   8/25/2013|\n",
      "|        16|SJSU - San Salvad...|37.333955|-121.877349|       15|     San Jose|    8/7/2013|\n",
      "|        62|       2nd at Folsom|37.785299|-122.396236|       19|San Francisco|   8/22/2013|\n",
      "|        36|California Ave Ca...|37.429082|-122.142805|       15|    Palo Alto|   8/14/2013|\n",
      "|        74|   Steuart at Market|37.794139|-122.394434|       23|San Francisco|   8/25/2013|\n",
      "|        80|Santa Clara Count...|37.352601|-121.905733|       15|     San Jose|  12/31/2013|\n",
      "|        47|     Post at Kearney|37.788975|-122.403452|       19|San Francisco|   8/19/2013|\n",
      "|        69|San Francisco Cal...|  37.7766| -122.39547|       23|San Francisco|   8/23/2013|\n",
      "+----------+--------------------+---------+-----------+---------+-------------+------------+\n",
      "only showing top 20 rows\n",
      "\n"
     ]
    }
   ],
   "source": [
    "# Checking vertices\n",
    "vertices.show()"
   ]
  },
  {
   "cell_type": "code",
   "execution_count": 9,
   "metadata": {},
   "outputs": [
    {
     "name": "stdout",
     "output_type": "stream",
     "text": [
      "+-------+--------+---------------+--------------------+--------------+---------------+--------------------+------------+------+---------------+--------+\n",
      "|Trip ID|Duration|     Start Date|                 src|Start Terminal|       End Date|                 dst|End Terminal|Bike #|Subscriber Type|Zip Code|\n",
      "+-------+--------+---------------+--------------------+--------------+---------------+--------------------+------------+------+---------------+--------+\n",
      "| 913460|     765|8/31/2015 23:26|Harry Bridges Pla...|            50|8/31/2015 23:39|San Francisco Cal...|          70|   288|     Subscriber|    2139|\n",
      "| 913459|    1036|8/31/2015 23:11|San Antonio Shopp...|            31|8/31/2015 23:28|Mountain View Cit...|          27|    35|     Subscriber|   95032|\n",
      "| 913455|     307|8/31/2015 23:13|      Post at Kearny|            47|8/31/2015 23:18|   2nd at South Park|          64|   468|     Subscriber|   94107|\n",
      "| 913454|     409|8/31/2015 23:10|  San Jose City Hall|            10|8/31/2015 23:17| San Salvador at 1st|           8|    68|     Subscriber|   95113|\n",
      "| 913453|     789|8/31/2015 23:09|Embarcadero at Fo...|            51|8/31/2015 23:22|Embarcadero at Sa...|          60|   487|       Customer|    9069|\n",
      "| 913452|     293|8/31/2015 23:07|Yerba Buena Cente...|            68|8/31/2015 23:12|San Francisco Cal...|          70|   538|     Subscriber|   94118|\n",
      "| 913451|     896|8/31/2015 23:07|Embarcadero at Fo...|            51|8/31/2015 23:22|Embarcadero at Sa...|          60|   363|       Customer|   92562|\n",
      "| 913450|     255|8/31/2015 22:16|Embarcadero at Sa...|            60|8/31/2015 22:20|   Steuart at Market|          74|   470|     Subscriber|   94111|\n",
      "| 913449|     126|8/31/2015 22:12|     Beale at Market|            56|8/31/2015 22:15|Temporary Transba...|          55|   439|     Subscriber|   94130|\n",
      "| 913448|     932|8/31/2015 21:57|      Post at Kearny|            47|8/31/2015 22:12|South Van Ness at...|          66|   472|     Subscriber|   94702|\n",
      "| 913443|     691|8/31/2015 21:49|Embarcadero at Sa...|            60|8/31/2015 22:01|   Market at Sansome|          77|   434|     Subscriber|   94109|\n",
      "| 913442|     633|8/31/2015 21:44|      Market at 10th|            67|8/31/2015 21:54|San Francisco Cal...|          70|   531|     Subscriber|   94107|\n",
      "| 913441|     387|8/31/2015 21:39|       Market at 4th|            76|8/31/2015 21:46|Grant Avenue at C...|          73|   383|     Subscriber|   94104|\n",
      "| 913440|     281|8/31/2015 21:31|   Market at Sansome|            77|8/31/2015 21:36|Broadway St at Ba...|          82|   621|     Subscriber|   94107|\n",
      "| 913435|     424|8/31/2015 21:25|Temporary Transba...|            55|8/31/2015 21:33|San Francisco Cal...|          69|   602|     Subscriber|   94401|\n",
      "| 913434|     283|8/31/2015 21:19|San Francisco Cal...|            69|8/31/2015 21:24|     Townsend at 7th|          65|   521|     Subscriber|   94107|\n",
      "| 913433|     145|8/31/2015 21:17|University and Em...|            35|8/31/2015 21:20|Cowper at University|          37|    75|       Customer|    6907|\n",
      "| 913432|     703|8/31/2015 21:16|     Spear at Folsom|            49|8/31/2015 21:28|San Francisco Cal...|          69|   426|     Subscriber|   95032|\n",
      "| 913431|     605|8/31/2015 21:11|Temporary Transba...|            55|8/31/2015 21:21|Grant Avenue at C...|          73|   572|     Subscriber|   94133|\n",
      "| 913429|     902|8/31/2015 21:07|San Francisco Cal...|            70|8/31/2015 21:22|Broadway St at Ba...|          82|   501|     Subscriber|   94133|\n",
      "+-------+--------+---------------+--------------------+--------------+---------------+--------------------+------------+------+---------------+--------+\n",
      "only showing top 20 rows\n",
      "\n"
     ]
    }
   ],
   "source": [
    "# Checking edges\n",
    "edges.show()"
   ]
  },
  {
   "cell_type": "markdown",
   "metadata": {},
   "source": [
    "# Graph Creation"
   ]
  },
  {
   "cell_type": "code",
   "execution_count": 10,
   "metadata": {},
   "outputs": [],
   "source": [
    "# Graph Creation\n",
    "graph = GraphFrame(vertices,edges)"
   ]
  },
  {
   "cell_type": "code",
   "execution_count": 11,
   "metadata": {},
   "outputs": [
    {
     "data": {
      "text/plain": [
       "GraphFrame(v:[id: string, station_id: string ... 5 more fields], e:[src: string, dst: string ... 9 more fields])"
      ]
     },
     "execution_count": 11,
     "metadata": {},
     "output_type": "execute_result"
    }
   ],
   "source": [
    "# CHecking the graph created\n",
    "graph"
   ]
  },
  {
   "cell_type": "markdown",
   "metadata": {},
   "source": [
    "# Triangle Count\n",
    "\n",
    "It computes the number of triangles passing through each vertex.\n",
    "\n",
    "Returns dataFrame with new vertex column \"count\""
   ]
  },
  {
   "cell_type": "code",
   "execution_count": 12,
   "metadata": {},
   "outputs": [],
   "source": [
    "triangleCount = graph.triangleCount()"
   ]
  },
  {
   "cell_type": "code",
   "execution_count": 13,
   "metadata": {},
   "outputs": [
    {
     "name": "stdout",
     "output_type": "stream",
     "text": [
      "+--------------------+-----+\n",
      "|                  id|count|\n",
      "+--------------------+-----+\n",
      "|       2nd at Folsom|  496|\n",
      "|California Ave Ca...|   23|\n",
      "|Washington at Kea...|    0|\n",
      "|Powell at Post (U...|  496|\n",
      "| Golden Gate at Polk|  496|\n",
      "|Yerba Buena Cente...|  496|\n",
      "|   Market at Sansome|  496|\n",
      "|         MLK Library|   90|\n",
      "|     Spear at Folsom|  496|\n",
      "|           Japantown|   77|\n",
      "|Commercial at Mon...|  496|\n",
      "|Paseo de San Antonio|   81|\n",
      "|Rengstorff Avenue...|   23|\n",
      "| San Salvador at 1st|   61|\n",
      "|     Townsend at 7th|  496|\n",
      "|Civic Center BART...|  496|\n",
      "|         Ryland Park|   41|\n",
      "|San Jose Diridon ...|   90|\n",
      "|San Jose Civic Ce...|   63|\n",
      "|     Post at Kearney|    0|\n",
      "+--------------------+-----+\n",
      "only showing top 20 rows\n",
      "\n"
     ]
    }
   ],
   "source": [
    "triangleCount.select(\"id\", \"count\").show()"
   ]
  },
  {
   "cell_type": "markdown",
   "metadata": {},
   "source": [
    "# Shortest Path w.r.t Landmark\n",
    "\n",
    "It gives the shortest paths from each vertex to the given set of landmark vertices, where landmarks are specified by vertex ID.\n",
    "\n",
    "It returns a dataFrame with new vertices column “distances”"
   ]
  },
  {
   "cell_type": "code",
   "execution_count": 14,
   "metadata": {},
   "outputs": [],
   "source": [
    "shortestPath = graph.shortestPaths(landmarks=[\"San Jose City Hall\", \"St James Park\"])"
   ]
  },
  {
   "cell_type": "code",
   "execution_count": 16,
   "metadata": {},
   "outputs": [
    {
     "name": "stdout",
     "output_type": "stream",
     "text": [
      "+--------------------+--------------------+\n",
      "|                  id|           distances|\n",
      "+--------------------+--------------------+\n",
      "|         MLK Library|[St James Park ->...|\n",
      "|Santa Clara Count...|[St James Park ->...|\n",
      "|   2nd at South Park|                  []|\n",
      "|California Ave Ca...|                  []|\n",
      "|       2nd at Folsom|                  []|\n",
      "|    Adobe on Almaden|[San Jose City Ha...|\n",
      "|Mechanics Plaza (...|                  []|\n",
      "|       Howard at 2nd|                  []|\n",
      "|          Mezes Park|                  []|\n",
      "|    Davis at Jackson|                  []|\n",
      "|Broadway St at Ba...|                  []|\n",
      "|       Park at Olive|                  []|\n",
      "|     Beale at Market|                  []|\n",
      "|Embarcadero at Br...|                  []|\n",
      "|   Franklin at Maple|                  []|\n",
      "|Redwood City Calt...|                  []|\n",
      "|Civic Center BART...|                  []|\n",
      "|San Antonio Shopp...|                  []|\n",
      "|       St James Park|[St James Park ->...|\n",
      "|      Market at 10th|                  []|\n",
      "+--------------------+--------------------+\n",
      "only showing top 20 rows\n",
      "\n"
     ]
    }
   ],
   "source": [
    "shortestPath.select(\"id\",\"distances\").show()"
   ]
  },
  {
   "cell_type": "markdown",
   "metadata": {},
   "source": [
    "# Page Rank\n",
    "\n",
    "It works by counting the number and quality of links to a vertex to determine a rough estimate of how important is the vertex node.\n",
    "\n",
    "It accepts parameters like\n",
    "    resetProbability - indicates the probability of resetting to a random vertex.\n",
    "    Source Id - the source vertex for a personalized PageRank.\n",
    "    maxIter – If set, the algorithm is run for a fixed number of iterations. This may not be set if the tol parameter is set.\n",
    "    tol – If set, the algorithm is run until the given tolerance. This may not be set if the numIter parameter is set.\n",
    "    \n",
    " Returns the GraphFrame with new vertices column \"pagerank\" and new edges column \"weight\"\n"
   ]
  },
  {
   "cell_type": "code",
   "execution_count": 17,
   "metadata": {},
   "outputs": [],
   "source": [
    "pageRank = graph.pageRank(resetProbability=0.15, tol=0.01)"
   ]
  },
  {
   "cell_type": "code",
   "execution_count": 18,
   "metadata": {},
   "outputs": [
    {
     "name": "stdout",
     "output_type": "stream",
     "text": [
      "+--------------------+------------------+\n",
      "|                  id|          pagerank|\n",
      "+--------------------+------------------+\n",
      "|         MLK Library|0.7773824929442228|\n",
      "|Santa Clara Count...|0.4980209797772844|\n",
      "|   2nd at South Park| 0.655950281002495|\n",
      "|California Ave Ca...|0.9108234167101544|\n",
      "|       2nd at Folsom|0.6019976457886538|\n",
      "|    Adobe on Almaden|0.5363219791463285|\n",
      "|Mechanics Plaza (...|0.7253474780348989|\n",
      "|       Howard at 2nd|0.8054001544389847|\n",
      "|          Mezes Park|0.2624675157029054|\n",
      "|    Davis at Jackson|0.7741963042010733|\n",
      "|Broadway St at Ba...|0.6542773822104648|\n",
      "|       Park at Olive|0.7002431931818809|\n",
      "|     Beale at Market|0.7386610420274133|\n",
      "|Embarcadero at Br...|0.7764332479171439|\n",
      "|   Franklin at Maple|0.4924961201086168|\n",
      "|Redwood City Calt...|1.5344637511069898|\n",
      "|Civic Center BART...|0.7328209397912441|\n",
      "|San Antonio Shopp...|0.8947155902287536|\n",
      "|       St James Park|0.7637060969041818|\n",
      "|      Market at 10th|1.0527872000946072|\n",
      "+--------------------+------------------+\n",
      "only showing top 20 rows\n",
      "\n",
      "+-------------+--------------------+--------------------+\n",
      "|          src|                 dst|              weight|\n",
      "+-------------+--------------------+--------------------+\n",
      "|2nd at Folsom|San Francisco Cal...|9.025270758122744E-4|\n",
      "|2nd at Folsom|San Francisco Cal...|9.025270758122744E-4|\n",
      "|2nd at Folsom|San Francisco Cal...|9.025270758122744E-4|\n",
      "|2nd at Folsom|San Francisco Cal...|9.025270758122744E-4|\n",
      "|2nd at Folsom|San Francisco Cal...|9.025270758122744E-4|\n",
      "|2nd at Folsom|San Francisco Cal...|9.025270758122744E-4|\n",
      "|2nd at Folsom|San Francisco Cal...|9.025270758122744E-4|\n",
      "|2nd at Folsom|San Francisco Cal...|9.025270758122744E-4|\n",
      "|2nd at Folsom|San Francisco Cal...|9.025270758122744E-4|\n",
      "|2nd at Folsom|San Francisco Cal...|9.025270758122744E-4|\n",
      "|2nd at Folsom|San Francisco Cal...|9.025270758122744E-4|\n",
      "|2nd at Folsom|San Francisco Cal...|9.025270758122744E-4|\n",
      "|2nd at Folsom|San Francisco Cal...|9.025270758122744E-4|\n",
      "|2nd at Folsom|San Francisco Cal...|9.025270758122744E-4|\n",
      "|2nd at Folsom|San Francisco Cal...|9.025270758122744E-4|\n",
      "|2nd at Folsom|San Francisco Cal...|9.025270758122744E-4|\n",
      "|2nd at Folsom|San Francisco Cal...|9.025270758122744E-4|\n",
      "|2nd at Folsom|San Francisco Cal...|9.025270758122744E-4|\n",
      "|2nd at Folsom|San Francisco Cal...|9.025270758122744E-4|\n",
      "|2nd at Folsom|San Francisco Cal...|9.025270758122744E-4|\n",
      "+-------------+--------------------+--------------------+\n",
      "only showing top 20 rows\n",
      "\n"
     ]
    }
   ],
   "source": [
    "pageRank.vertices.select(\"id\", \"pagerank\").show()\n",
    "pageRank.edges.select(\"src\", \"dst\", \"weight\").show()"
   ]
  },
  {
   "cell_type": "markdown",
   "metadata": {},
   "source": [
    "# Saving the Graphs"
   ]
  },
  {
   "cell_type": "code",
   "execution_count": 20,
   "metadata": {},
   "outputs": [],
   "source": [
    "pageRank.vertices.coalesce(1).write.csv(\"vertices\")\n",
    "pageRank.edges.coalesce(1).write.csv(\"edges\")"
   ]
  },
  {
   "cell_type": "markdown",
   "metadata": {},
   "source": [
    "# Label Propagation\n",
    "\n",
    "LPA is a standard community detection algorithm for graphs. I runs static Label Propagation Algorithm for detecting communities in networks."
   ]
  },
  {
   "cell_type": "code",
   "execution_count": 21,
   "metadata": {},
   "outputs": [],
   "source": [
    "lpaResult = graph.labelPropagation(maxIter=5)"
   ]
  },
  {
   "cell_type": "code",
   "execution_count": 22,
   "metadata": {},
   "outputs": [
    {
     "name": "stdout",
     "output_type": "stream",
     "text": [
      "+--------------------+-------------+\n",
      "|                  id|        label|\n",
      "+--------------------+-------------+\n",
      "|         MLK Library| 292057776128|\n",
      "|Santa Clara Count...|1365799600128|\n",
      "|   2nd at South Park|1657857376256|\n",
      "|California Ave Ca...| 429496729600|\n",
      "|       2nd at Folsom|1657857376256|\n",
      "|    Adobe on Almaden| 292057776128|\n",
      "|Mechanics Plaza (...|1657857376256|\n",
      "|       Howard at 2nd|1657857376256|\n",
      "|          Mezes Park| 730144440320|\n",
      "|    Davis at Jackson|1657857376256|\n",
      "|Broadway St at Ba...|1657857376256|\n",
      "|       Park at Olive| 429496729600|\n",
      "|     Beale at Market|1657857376256|\n",
      "|Embarcadero at Br...|1657857376256|\n",
      "|   Franklin at Maple| 730144440320|\n",
      "|Redwood City Calt...|1151051235328|\n",
      "|Civic Center BART...|1657857376256|\n",
      "|San Antonio Shopp...| 661424963584|\n",
      "|       St James Park| 292057776128|\n",
      "|      Market at 10th|1657857376256|\n",
      "+--------------------+-------------+\n",
      "only showing top 20 rows\n",
      "\n"
     ]
    }
   ],
   "source": [
    "lpaResult.select(\"id\", \"label\").show()"
   ]
  },
  {
   "cell_type": "markdown",
   "metadata": {},
   "source": [
    "# Breadth-first search (BFS)\n",
    "\n",
    "Breadth-first search (BFS) finds the shortest path(s) from one vertex (or a set of vertices) to another vertex (or a set of vertices). The beginning and end vertices are specified as Spark DataFrame expressions"
   ]
  },
  {
   "cell_type": "code",
   "execution_count": 23,
   "metadata": {},
   "outputs": [],
   "source": [
    "# Search from \"St Jame Park\" for stations with dock count < 15.\n",
    "paths = graph.bfs(\"id = 'St James Park'\", \"dockcount < 15\")"
   ]
  },
  {
   "cell_type": "code",
   "execution_count": 24,
   "metadata": {},
   "outputs": [
    {
     "name": "stdout",
     "output_type": "stream",
     "text": [
      "+--------------------+--------------------+--------------------+--------------------+--------------------+\n",
      "|                from|                  e0|                  v1|                  e1|                  to|\n",
      "+--------------------+--------------------+--------------------+--------------------+--------------------+\n",
      "|[13, St James Par...|[910027, 209, 8/2...|[11, MLK Library,...|[899253, 1174, 8/...|[4, Santa Clara a...|\n",
      "|[13, St James Par...|[910027, 209, 8/2...|[11, MLK Library,...|[899252, 1186, 8/...|[4, Santa Clara a...|\n",
      "|[13, St James Par...|[910027, 209, 8/2...|[11, MLK Library,...|[899251, 1170, 8/...|[4, Santa Clara a...|\n",
      "|[13, St James Par...|[910027, 209, 8/2...|[11, MLK Library,...|[859900, 624, 7/2...|[4, Santa Clara a...|\n",
      "|[13, St James Par...|[902538, 268, 8/2...|[11, MLK Library,...|[899253, 1174, 8/...|[4, Santa Clara a...|\n",
      "|[13, St James Par...|[902538, 268, 8/2...|[11, MLK Library,...|[899252, 1186, 8/...|[4, Santa Clara a...|\n",
      "|[13, St James Par...|[902538, 268, 8/2...|[11, MLK Library,...|[899251, 1170, 8/...|[4, Santa Clara a...|\n",
      "|[13, St James Par...|[902538, 268, 8/2...|[11, MLK Library,...|[859900, 624, 7/2...|[4, Santa Clara a...|\n",
      "|[13, St James Par...|[902494, 241, 8/2...|[11, MLK Library,...|[899253, 1174, 8/...|[4, Santa Clara a...|\n",
      "|[13, St James Par...|[902494, 241, 8/2...|[11, MLK Library,...|[899252, 1186, 8/...|[4, Santa Clara a...|\n",
      "|[13, St James Par...|[902494, 241, 8/2...|[11, MLK Library,...|[899251, 1170, 8/...|[4, Santa Clara a...|\n",
      "|[13, St James Par...|[902494, 241, 8/2...|[11, MLK Library,...|[859900, 624, 7/2...|[4, Santa Clara a...|\n",
      "|[13, St James Par...|[898759, 1096, 8/...|[11, MLK Library,...|[899253, 1174, 8/...|[4, Santa Clara a...|\n",
      "|[13, St James Par...|[898759, 1096, 8/...|[11, MLK Library,...|[899252, 1186, 8/...|[4, Santa Clara a...|\n",
      "|[13, St James Par...|[898759, 1096, 8/...|[11, MLK Library,...|[899251, 1170, 8/...|[4, Santa Clara a...|\n",
      "|[13, St James Par...|[898759, 1096, 8/...|[11, MLK Library,...|[859900, 624, 7/2...|[4, Santa Clara a...|\n",
      "|[13, St James Par...|[898748, 1055, 8/...|[11, MLK Library,...|[899253, 1174, 8/...|[4, Santa Clara a...|\n",
      "|[13, St James Par...|[898748, 1055, 8/...|[11, MLK Library,...|[899252, 1186, 8/...|[4, Santa Clara a...|\n",
      "|[13, St James Par...|[898748, 1055, 8/...|[11, MLK Library,...|[899251, 1170, 8/...|[4, Santa Clara a...|\n",
      "|[13, St James Par...|[898748, 1055, 8/...|[11, MLK Library,...|[859900, 624, 7/2...|[4, Santa Clara a...|\n",
      "+--------------------+--------------------+--------------------+--------------------+--------------------+\n",
      "only showing top 20 rows\n",
      "\n"
     ]
    }
   ],
   "source": [
    "paths.show()"
   ]
  },
  {
   "cell_type": "code",
   "execution_count": null,
   "metadata": {},
   "outputs": [],
   "source": []
  }
 ],
 "metadata": {
  "kernelspec": {
   "display_name": "Python 3",
   "language": "python",
   "name": "python3"
  },
  "language_info": {
   "codemirror_mode": {
    "name": "ipython",
    "version": 3
   },
   "file_extension": ".py",
   "mimetype": "text/x-python",
   "name": "python",
   "nbconvert_exporter": "python",
   "pygments_lexer": "ipython3",
   "version": "3.7.7"
  }
 },
 "nbformat": 4,
 "nbformat_minor": 4
}
