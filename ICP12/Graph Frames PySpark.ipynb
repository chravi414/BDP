{
 "cells": [
  {
   "cell_type": "code",
   "execution_count": 1,
   "metadata": {},
   "outputs": [],
   "source": [
    "# Importing the Libraries\n",
    "from graphframes import *\n",
    "from functools import reduce\n",
    "from pyspark.sql.functions import col, lit, when, concat, desc\n",
    "from pyspark import SparkContext, SQLContext"
   ]
  },
  {
   "cell_type": "code",
   "execution_count": 2,
   "metadata": {},
   "outputs": [],
   "source": [
    "import os\n",
    "os.environ[\"PYSPARK_SUBMIT_ARGS\"] = (\"--packages  graphframes:graphframes:0.5.0-spark2.0-s_2.11 pyspark-shell\")"
   ]
  },
  {
   "cell_type": "code",
   "execution_count": 3,
   "metadata": {},
   "outputs": [],
   "source": [
    "# Creating Spark Context instance\n",
    "sc = SparkContext.getOrCreate()\n",
    "sqlContext = SQLContext(sc)"
   ]
  },
  {
   "cell_type": "code",
   "execution_count": 4,
   "metadata": {},
   "outputs": [],
   "source": [
    "# 1. Reading Datafile\n",
    "station_data_df= sqlContext.read.format(\"csv\").option(\"header\", \"true\").csv('201508_station_data.csv')\n",
    "trips_df= sqlContext.read.format(\"csv\").option(\"header\", \"true\").csv('201508_trip_data.csv')"
   ]
  },
  {
   "cell_type": "code",
   "execution_count": 5,
   "metadata": {},
   "outputs": [
    {
     "name": "stdout",
     "output_type": "stream",
     "text": [
      "+----------+--------------------+---------+-----------+---------+------------+------------+\n",
      "|station_id|                name|      lat|       long|dockcount|    landmark|installation|\n",
      "+----------+--------------------+---------+-----------+---------+------------+------------+\n",
      "|         2|San Jose Diridon ...|37.329732|-121.901782|       27|    San Jose|    8/6/2013|\n",
      "|         3|San Jose Civic Ce...|37.330698|-121.888979|       15|    San Jose|    8/5/2013|\n",
      "|         4|Santa Clara at Al...|37.333988|-121.894902|       11|    San Jose|    8/6/2013|\n",
      "|         5|    Adobe on Almaden|37.331415|  -121.8932|       19|    San Jose|    8/5/2013|\n",
      "|         6|    San Pedro Square|37.336721|-121.894074|       15|    San Jose|    8/7/2013|\n",
      "|         7|Paseo de San Antonio|37.333798|-121.886943|       15|    San Jose|    8/7/2013|\n",
      "|         8| San Salvador at 1st|37.330165|-121.885831|       15|    San Jose|    8/5/2013|\n",
      "|         9|           Japantown|37.348742|-121.894715|       15|    San Jose|    8/5/2013|\n",
      "|        10|  San Jose City Hall|37.337391|-121.886995|       15|    San Jose|    8/6/2013|\n",
      "|        11|         MLK Library|37.335885| -121.88566|       19|    San Jose|    8/6/2013|\n",
      "|        12|SJSU 4th at San C...|37.332808|-121.883891|       19|    San Jose|    8/7/2013|\n",
      "|        13|       St James Park|37.339301|-121.889937|       15|    San Jose|    8/6/2013|\n",
      "|        14|Arena Green / SAP...|37.332692|-121.900084|       19|    San Jose|    8/5/2013|\n",
      "|        16|SJSU - San Salvad...|37.333955|-121.877349|       15|    San Jose|    8/7/2013|\n",
      "|        21|   Franklin at Maple|37.481758|-122.226904|       15|Redwood City|   8/12/2013|\n",
      "|        22|Redwood City Calt...|37.486078|-122.232089|       25|Redwood City|   8/15/2013|\n",
      "|        23|San Mateo County ...|37.487616|-122.229951|       15|Redwood City|   8/15/2013|\n",
      "|        24|Redwood City Publ...|37.484219|-122.227424|       15|Redwood City|   8/12/2013|\n",
      "|        25|Stanford in Redwo...| 37.48537|-122.203288|       15|Redwood City|   8/12/2013|\n",
      "|        26|Redwood City Medi...|37.487682|-122.223492|       15|Redwood City|   8/12/2013|\n",
      "+----------+--------------------+---------+-----------+---------+------------+------------+\n",
      "only showing top 20 rows\n",
      "\n"
     ]
    }
   ],
   "source": [
    "station_data_df.show()"
   ]
  },
  {
   "cell_type": "code",
   "execution_count": 6,
   "metadata": {},
   "outputs": [
    {
     "name": "stdout",
     "output_type": "stream",
     "text": [
      "+-------+--------+---------------+--------------------+--------------+---------------+--------------------+------------+------+---------------+--------+\n",
      "|Trip ID|Duration|     Start Date|       Start Station|Start Terminal|       End Date|         End Station|End Terminal|Bike #|Subscriber Type|Zip Code|\n",
      "+-------+--------+---------------+--------------------+--------------+---------------+--------------------+------------+------+---------------+--------+\n",
      "| 913460|     765|8/31/2015 23:26|Harry Bridges Pla...|            50|8/31/2015 23:39|San Francisco Cal...|          70|   288|     Subscriber|    2139|\n",
      "| 913459|    1036|8/31/2015 23:11|San Antonio Shopp...|            31|8/31/2015 23:28|Mountain View Cit...|          27|    35|     Subscriber|   95032|\n",
      "| 913455|     307|8/31/2015 23:13|      Post at Kearny|            47|8/31/2015 23:18|   2nd at South Park|          64|   468|     Subscriber|   94107|\n",
      "| 913454|     409|8/31/2015 23:10|  San Jose City Hall|            10|8/31/2015 23:17| San Salvador at 1st|           8|    68|     Subscriber|   95113|\n",
      "| 913453|     789|8/31/2015 23:09|Embarcadero at Fo...|            51|8/31/2015 23:22|Embarcadero at Sa...|          60|   487|       Customer|    9069|\n",
      "| 913452|     293|8/31/2015 23:07|Yerba Buena Cente...|            68|8/31/2015 23:12|San Francisco Cal...|          70|   538|     Subscriber|   94118|\n",
      "| 913451|     896|8/31/2015 23:07|Embarcadero at Fo...|            51|8/31/2015 23:22|Embarcadero at Sa...|          60|   363|       Customer|   92562|\n",
      "| 913450|     255|8/31/2015 22:16|Embarcadero at Sa...|            60|8/31/2015 22:20|   Steuart at Market|          74|   470|     Subscriber|   94111|\n",
      "| 913449|     126|8/31/2015 22:12|     Beale at Market|            56|8/31/2015 22:15|Temporary Transba...|          55|   439|     Subscriber|   94130|\n",
      "| 913448|     932|8/31/2015 21:57|      Post at Kearny|            47|8/31/2015 22:12|South Van Ness at...|          66|   472|     Subscriber|   94702|\n",
      "| 913443|     691|8/31/2015 21:49|Embarcadero at Sa...|            60|8/31/2015 22:01|   Market at Sansome|          77|   434|     Subscriber|   94109|\n",
      "| 913442|     633|8/31/2015 21:44|      Market at 10th|            67|8/31/2015 21:54|San Francisco Cal...|          70|   531|     Subscriber|   94107|\n",
      "| 913441|     387|8/31/2015 21:39|       Market at 4th|            76|8/31/2015 21:46|Grant Avenue at C...|          73|   383|     Subscriber|   94104|\n",
      "| 913440|     281|8/31/2015 21:31|   Market at Sansome|            77|8/31/2015 21:36|Broadway St at Ba...|          82|   621|     Subscriber|   94107|\n",
      "| 913435|     424|8/31/2015 21:25|Temporary Transba...|            55|8/31/2015 21:33|San Francisco Cal...|          69|   602|     Subscriber|   94401|\n",
      "| 913434|     283|8/31/2015 21:19|San Francisco Cal...|            69|8/31/2015 21:24|     Townsend at 7th|          65|   521|     Subscriber|   94107|\n",
      "| 913433|     145|8/31/2015 21:17|University and Em...|            35|8/31/2015 21:20|Cowper at University|          37|    75|       Customer|    6907|\n",
      "| 913432|     703|8/31/2015 21:16|     Spear at Folsom|            49|8/31/2015 21:28|San Francisco Cal...|          69|   426|     Subscriber|   95032|\n",
      "| 913431|     605|8/31/2015 21:11|Temporary Transba...|            55|8/31/2015 21:21|Grant Avenue at C...|          73|   572|     Subscriber|   94133|\n",
      "| 913429|     902|8/31/2015 21:07|San Francisco Cal...|            70|8/31/2015 21:22|Broadway St at Ba...|          82|   501|     Subscriber|   94133|\n",
      "+-------+--------+---------------+--------------------+--------------+---------------+--------------------+------------+------+---------------+--------+\n",
      "only showing top 20 rows\n",
      "\n"
     ]
    }
   ],
   "source": [
    "trips_df.show()"
   ]
  },
  {
   "cell_type": "code",
   "execution_count": 59,
   "metadata": {},
   "outputs": [
    {
     "data": {
      "text/plain": [
       "DataFrame[station_id: string, name: string, lat: string, long: string, dockcount: int, landmark: string, installation: string]"
      ]
     },
     "execution_count": 59,
     "metadata": {},
     "output_type": "execute_result"
    }
   ],
   "source": [
    "from pyspark.sql.types import IntegerType\n",
    "station_data_df = station_data_df.withColumn(\"dockcount\",station_data_df[\"dockcount\"].cast(IntegerType()))\n",
    "station_data_df"
   ]
  },
  {
   "cell_type": "code",
   "execution_count": 60,
   "metadata": {},
   "outputs": [
    {
     "data": {
      "text/plain": [
       "DataFrame[Trip ID: string, Duration: int, Start Date: string, Start Station: string, Start Terminal: string, End Date: string, End Station: string, End Terminal: string, Bike #: string, Subscriber Type: string, Zip Code: string]"
      ]
     },
     "execution_count": 60,
     "metadata": {},
     "output_type": "execute_result"
    }
   ],
   "source": [
    "final_trips_df = trips_df.withColumn(\"Duration\",trips_df[\"Duration\"].cast(IntegerType()))\n",
    "final_trips_df"
   ]
  },
  {
   "cell_type": "code",
   "execution_count": 29,
   "metadata": {},
   "outputs": [
    {
     "name": "stdout",
     "output_type": "stream",
     "text": [
      "+----------+--------------------+---------+-----------+---------+-------------+------------+\n",
      "|station_id|                  id|      lat|       long|dockcount|     landmark|installation|\n",
      "+----------+--------------------+---------+-----------+---------+-------------+------------+\n",
      "|        56|     Beale at Market|37.792251|-122.397086|       19|San Francisco|   8/20/2013|\n",
      "|        84|         Ryland Park|37.342725|-121.895617|       15|     San Jose|    4/9/2014|\n",
      "|         7|Paseo de San Antonio|37.333798|-121.886943|       15|     San Jose|    8/7/2013|\n",
      "|        27|Mountain View Cit...|37.389218|-122.081896|       15|Mountain View|   8/16/2013|\n",
      "|        12|SJSU 4th at San C...|37.332808|-121.883891|       19|     San Jose|    8/7/2013|\n",
      "|        31|San Antonio Shopp...|37.400443|-122.108338|       15|Mountain View|  12/31/2013|\n",
      "|        72|Civic Center BART...|37.781039|-122.411748|       23|San Francisco|   8/23/2013|\n",
      "|        74|   Steuart at Market|37.794139|-122.394434|       23|San Francisco|   8/25/2013|\n",
      "|        71|Powell at Post (U...|37.788446|-122.408499|       19|San Francisco|   8/23/2013|\n",
      "|        36|California Ave Ca...|37.429082|-122.142805|       15|    Palo Alto|   8/14/2013|\n",
      "|        50|Harry Bridges Pla...|37.795392|-122.394203|       23|San Francisco|   8/20/2013|\n",
      "|        63|       Howard at 2nd|37.786978|-122.398108|       19|San Francisco|   8/22/2013|\n",
      "|        25|Stanford in Redwo...| 37.48537|-122.203288|       15| Redwood City|   8/12/2013|\n",
      "|         6|    San Pedro Square|37.336721|-121.894074|       15|     San Jose|    8/7/2013|\n",
      "|        29|San Antonio Caltr...| 37.40694|-122.106758|       23|Mountain View|   8/15/2013|\n",
      "|        76|       Market at 4th|37.786305|-122.404966|       19|San Francisco|   8/25/2013|\n",
      "|        68|Yerba Buena Cente...|37.784878|-122.401014|       19|San Francisco|   8/23/2013|\n",
      "|        70|San Francisco Cal...|37.776617| -122.39526|       19|San Francisco|   8/23/2013|\n",
      "|        34|Palo Alto Caltrai...|37.443988|-122.164759|       23|    Palo Alto|   8/14/2013|\n",
      "|        62|       2nd at Folsom|37.785299|-122.396236|       19|San Francisco|   8/22/2013|\n",
      "+----------+--------------------+---------+-----------+---------+-------------+------------+\n",
      "only showing top 20 rows\n",
      "\n"
     ]
    }
   ],
   "source": [
    "# Creating Vertices\n",
    "vertices = station_data_df.withColumnRenamed(\"name\",\"id\").distinct()\n",
    "vertices.show()"
   ]
  },
  {
   "cell_type": "code",
   "execution_count": 31,
   "metadata": {},
   "outputs": [
    {
     "name": "stdout",
     "output_type": "stream",
     "text": [
      "+-------+--------+---------------+--------------------+--------------+---------------+--------------------+------------+------+---------------+--------+\n",
      "|Trip ID|Duration|     Start Date|                 src|Start Terminal|       End Date|                 dst|End Terminal|Bike #|Subscriber Type|Zip Code|\n",
      "+-------+--------+---------------+--------------------+--------------+---------------+--------------------+------------+------+---------------+--------+\n",
      "| 913460|     765|8/31/2015 23:26|Harry Bridges Pla...|            50|8/31/2015 23:39|San Francisco Cal...|          70|   288|     Subscriber|    2139|\n",
      "| 913459|    1036|8/31/2015 23:11|San Antonio Shopp...|            31|8/31/2015 23:28|Mountain View Cit...|          27|    35|     Subscriber|   95032|\n",
      "| 913455|     307|8/31/2015 23:13|      Post at Kearny|            47|8/31/2015 23:18|   2nd at South Park|          64|   468|     Subscriber|   94107|\n",
      "| 913454|     409|8/31/2015 23:10|  San Jose City Hall|            10|8/31/2015 23:17| San Salvador at 1st|           8|    68|     Subscriber|   95113|\n",
      "| 913453|     789|8/31/2015 23:09|Embarcadero at Fo...|            51|8/31/2015 23:22|Embarcadero at Sa...|          60|   487|       Customer|    9069|\n",
      "| 913452|     293|8/31/2015 23:07|Yerba Buena Cente...|            68|8/31/2015 23:12|San Francisco Cal...|          70|   538|     Subscriber|   94118|\n",
      "| 913451|     896|8/31/2015 23:07|Embarcadero at Fo...|            51|8/31/2015 23:22|Embarcadero at Sa...|          60|   363|       Customer|   92562|\n",
      "| 913450|     255|8/31/2015 22:16|Embarcadero at Sa...|            60|8/31/2015 22:20|   Steuart at Market|          74|   470|     Subscriber|   94111|\n",
      "| 913449|     126|8/31/2015 22:12|     Beale at Market|            56|8/31/2015 22:15|Temporary Transba...|          55|   439|     Subscriber|   94130|\n",
      "| 913448|     932|8/31/2015 21:57|      Post at Kearny|            47|8/31/2015 22:12|South Van Ness at...|          66|   472|     Subscriber|   94702|\n",
      "| 913443|     691|8/31/2015 21:49|Embarcadero at Sa...|            60|8/31/2015 22:01|   Market at Sansome|          77|   434|     Subscriber|   94109|\n",
      "| 913442|     633|8/31/2015 21:44|      Market at 10th|            67|8/31/2015 21:54|San Francisco Cal...|          70|   531|     Subscriber|   94107|\n",
      "| 913441|     387|8/31/2015 21:39|       Market at 4th|            76|8/31/2015 21:46|Grant Avenue at C...|          73|   383|     Subscriber|   94104|\n",
      "| 913440|     281|8/31/2015 21:31|   Market at Sansome|            77|8/31/2015 21:36|Broadway St at Ba...|          82|   621|     Subscriber|   94107|\n",
      "| 913435|     424|8/31/2015 21:25|Temporary Transba...|            55|8/31/2015 21:33|San Francisco Cal...|          69|   602|     Subscriber|   94401|\n",
      "| 913434|     283|8/31/2015 21:19|San Francisco Cal...|            69|8/31/2015 21:24|     Townsend at 7th|          65|   521|     Subscriber|   94107|\n",
      "| 913433|     145|8/31/2015 21:17|University and Em...|            35|8/31/2015 21:20|Cowper at University|          37|    75|       Customer|    6907|\n",
      "| 913432|     703|8/31/2015 21:16|     Spear at Folsom|            49|8/31/2015 21:28|San Francisco Cal...|          69|   426|     Subscriber|   95032|\n",
      "| 913431|     605|8/31/2015 21:11|Temporary Transba...|            55|8/31/2015 21:21|Grant Avenue at C...|          73|   572|     Subscriber|   94133|\n",
      "| 913429|     902|8/31/2015 21:07|San Francisco Cal...|            70|8/31/2015 21:22|Broadway St at Ba...|          82|   501|     Subscriber|   94133|\n",
      "+-------+--------+---------------+--------------------+--------------+---------------+--------------------+------------+------+---------------+--------+\n",
      "only showing top 20 rows\n",
      "\n"
     ]
    }
   ],
   "source": [
    "# Creating Edges\n",
    "edges=final_trips_df.withColumnRenamed(\"Start Station\",\"src\").withColumnRenamed(\"End Station\",\"dst\")\n",
    "edges.show()"
   ]
  },
  {
   "cell_type": "code",
   "execution_count": 32,
   "metadata": {},
   "outputs": [
    {
     "data": {
      "text/plain": [
       "DataFrame[Trip ID: string, Duration: int, Start Date: string, src: string, Start Terminal: string, End Date: string, dst: string, End Terminal: string, Bike #: string, Subscriber Type: string, Zip Code: string]"
      ]
     },
     "execution_count": 32,
     "metadata": {},
     "output_type": "execute_result"
    }
   ],
   "source": [
    "edges"
   ]
  },
  {
   "cell_type": "code",
   "execution_count": 33,
   "metadata": {},
   "outputs": [
    {
     "data": {
      "text/plain": [
       "GraphFrame(v:[id: string, station_id: string ... 5 more fields], e:[src: string, dst: string ... 9 more fields])"
      ]
     },
     "execution_count": 33,
     "metadata": {},
     "output_type": "execute_result"
    }
   ],
   "source": [
    "# Creating Graph\n",
    "graph = GraphFrame(vertices, edges)\n",
    "graph"
   ]
  },
  {
   "cell_type": "code",
   "execution_count": 34,
   "metadata": {},
   "outputs": [
    {
     "name": "stdout",
     "output_type": "stream",
     "text": [
      "+--------------------+--------+\n",
      "|                  id|inDegree|\n",
      "+--------------------+--------+\n",
      "|       2nd at Folsom|     676|\n",
      "|California Ave Ca...|      93|\n",
      "|Powell at Post (U...|     576|\n",
      "| Golden Gate at Polk|     470|\n",
      "|Yerba Buena Cente...|     741|\n",
      "|   Market at Sansome|    1928|\n",
      "|     Spear at Folsom|     844|\n",
      "|         MLK Library|     119|\n",
      "|           Japantown|     146|\n",
      "|Commercial at Mon...|     819|\n",
      "|Paseo de San Antonio|     205|\n",
      "| San Salvador at 1st|      68|\n",
      "|Rengstorff Avenue...|      95|\n",
      "|     Townsend at 7th|    2119|\n",
      "|Civic Center BART...|     889|\n",
      "|         Ryland Park|     127|\n",
      "|San Jose Diridon ...|     709|\n",
      "|San Jose Civic Ce...|      62|\n",
      "|          Mezes Park|      16|\n",
      "|                null|       1|\n",
      "+--------------------+--------+\n",
      "only showing top 20 rows\n",
      "\n"
     ]
    }
   ],
   "source": [
    "# Vertex InDegree\n",
    "graph.inDegrees.show()"
   ]
  },
  {
   "cell_type": "code",
   "execution_count": 35,
   "metadata": {},
   "outputs": [
    {
     "name": "stdout",
     "output_type": "stream",
     "text": [
      "+--------------------+---------+\n",
      "|                  id|outDegree|\n",
      "+--------------------+---------+\n",
      "|       2nd at Folsom|     1125|\n",
      "|California Ave Ca...|       83|\n",
      "|Powell at Post (U...|      850|\n",
      "| Golden Gate at Polk|      572|\n",
      "|Yerba Buena Cente...|      627|\n",
      "|   Market at Sansome|     1585|\n",
      "|     Spear at Folsom|      848|\n",
      "|         MLK Library|      155|\n",
      "|           Japantown|      157|\n",
      "|Commercial at Mon...|      850|\n",
      "|Paseo de San Antonio|      179|\n",
      "| San Salvador at 1st|       55|\n",
      "|Rengstorff Avenue...|      117|\n",
      "|     Townsend at 7th|     1915|\n",
      "|Civic Center BART...|     1016|\n",
      "|         Ryland Park|      144|\n",
      "|San Jose Diridon ...|      702|\n",
      "|San Jose Civic Ce...|       94|\n",
      "|          Mezes Park|       29|\n",
      "|SJSU - San Salvad...|      130|\n",
      "+--------------------+---------+\n",
      "only showing top 20 rows\n",
      "\n"
     ]
    }
   ],
   "source": [
    "# Vertex OutDegree\n",
    "graph.outDegrees.show()"
   ]
  },
  {
   "cell_type": "code",
   "execution_count": 15,
   "metadata": {},
   "outputs": [
    {
     "name": "stdout",
     "output_type": "stream",
     "text": [
      "+--------------------+\n",
      "|concat(lat, ,, long)|\n",
      "+--------------------+\n",
      "|37.329732,-121.90...|\n",
      "|37.330698,-121.88...|\n",
      "|37.333988,-121.89...|\n",
      "| 37.331415,-121.8932|\n",
      "|37.336721,-121.89...|\n",
      "|37.333798,-121.88...|\n",
      "|37.330165,-121.88...|\n",
      "|37.348742,-121.89...|\n",
      "|37.337391,-121.88...|\n",
      "|37.335885,-121.88566|\n",
      "|37.332808,-121.88...|\n",
      "|37.339301,-121.88...|\n",
      "|37.332692,-121.90...|\n",
      "|37.333955,-121.87...|\n",
      "|37.481758,-122.22...|\n",
      "|37.486078,-122.23...|\n",
      "|37.487616,-122.22...|\n",
      "|37.484219,-122.22...|\n",
      "|37.48537,-122.203288|\n",
      "|37.487682,-122.22...|\n",
      "+--------------------+\n",
      "only showing top 20 rows\n",
      "\n"
     ]
    }
   ],
   "source": [
    "# Concatnate the chunks\n",
    "concat = station_data_df.select(concat(\"lat\", lit(\",\"),\"long\")).alias(\"location\")\n",
    "concat.show()"
   ]
  },
  {
   "cell_type": "code",
   "execution_count": 16,
   "metadata": {},
   "outputs": [
    {
     "name": "stdout",
     "output_type": "stream",
     "text": [
      "+----------+--------------------+---------+-----------+---------+-------------+------------+\n",
      "|station_id|                name|      lat|       long|dockcount|     landmark|installation|\n",
      "+----------+--------------------+---------+-----------+---------+-------------+------------+\n",
      "|        62|       2nd at Folsom|37.785299|-122.396236|       19|San Francisco|   8/22/2013|\n",
      "|        29|San Antonio Caltr...| 37.40694|-122.106758|       23|Mountain View|   8/15/2013|\n",
      "|         9|           Japantown|37.348742|-121.894715|       15|     San Jose|    8/5/2013|\n",
      "|        12|SJSU 4th at San C...|37.332808|-121.883891|       19|     San Jose|    8/7/2013|\n",
      "|        23|San Mateo County ...|37.487616|-122.229951|       15| Redwood City|   8/15/2013|\n",
      "|        39|  Powell Street BART|37.783871|-122.408433|       19|San Francisco|   8/25/2013|\n",
      "|        31|San Antonio Shopp...|37.400443|-122.108338|       15|Mountain View|  12/31/2013|\n",
      "|        56|     Beale at Market|37.792251|-122.397086|       19|San Francisco|   8/20/2013|\n",
      "|        13|       St James Park|37.339301|-121.889937|       15|     San Jose|    8/6/2013|\n",
      "|        54|Embarcadero at Br...|37.787152|-122.388013|       15|San Francisco|   8/20/2013|\n",
      "|        83|          Mezes Park|37.491269|-122.236234|       15| Redwood City|   2/20/2014|\n",
      "|        74|   Steuart at Market|37.794139|-122.394434|       23|San Francisco|   8/25/2013|\n",
      "|         5|    Adobe on Almaden|37.331415|  -121.8932|       19|     San Jose|    8/5/2013|\n",
      "|        25|Stanford in Redwo...| 37.48537|-122.203288|       15| Redwood City|   8/12/2013|\n",
      "|        55|Temporary Transba...|37.789756|-122.394643|       23|San Francisco|   8/20/2013|\n",
      "|        50|Harry Bridges Pla...|37.795392|-122.394203|       23|San Francisco|   8/20/2013|\n",
      "|        68|Yerba Buena Cente...|37.784878|-122.401014|       19|San Francisco|   8/23/2013|\n",
      "|        27|Mountain View Cit...|37.389218|-122.081896|       15|Mountain View|   8/16/2013|\n",
      "|        61|     2nd at Townsend|37.780526|-122.390288|       27|San Francisco|   8/22/2013|\n",
      "|        75|Mechanics Plaza (...|  37.7913|-122.399051|       19|San Francisco|   8/25/2013|\n",
      "+----------+--------------------+---------+-----------+---------+-------------+------------+\n",
      "only showing top 20 rows\n",
      "\n"
     ]
    }
   ],
   "source": [
    "# Remove Duplicates\n",
    "station_data_df.dropDuplicates().show()"
   ]
  },
  {
   "cell_type": "code",
   "execution_count": 36,
   "metadata": {},
   "outputs": [],
   "source": [
    "# Renaming the Columns\n",
    "final_station_df = station_data_df.withColumnRenamed(\"name\",\"Station Name\").withColumnRenamed(\"station_id\",\"Station Id\")"
   ]
  },
  {
   "cell_type": "code",
   "execution_count": 18,
   "metadata": {},
   "outputs": [
    {
     "name": "stdout",
     "output_type": "stream",
     "text": [
      "+----------+--------------------+---------+-----------+---------+------------+------------+\n",
      "|Station Id|        Station Name|      lat|       long|dockcount|    landmark|installation|\n",
      "+----------+--------------------+---------+-----------+---------+------------+------------+\n",
      "|         2|San Jose Diridon ...|37.329732|-121.901782|       27|    San Jose|    8/6/2013|\n",
      "|         3|San Jose Civic Ce...|37.330698|-121.888979|       15|    San Jose|    8/5/2013|\n",
      "|         4|Santa Clara at Al...|37.333988|-121.894902|       11|    San Jose|    8/6/2013|\n",
      "|         5|    Adobe on Almaden|37.331415|  -121.8932|       19|    San Jose|    8/5/2013|\n",
      "|         6|    San Pedro Square|37.336721|-121.894074|       15|    San Jose|    8/7/2013|\n",
      "|         7|Paseo de San Antonio|37.333798|-121.886943|       15|    San Jose|    8/7/2013|\n",
      "|         8| San Salvador at 1st|37.330165|-121.885831|       15|    San Jose|    8/5/2013|\n",
      "|         9|           Japantown|37.348742|-121.894715|       15|    San Jose|    8/5/2013|\n",
      "|        10|  San Jose City Hall|37.337391|-121.886995|       15|    San Jose|    8/6/2013|\n",
      "|        11|         MLK Library|37.335885| -121.88566|       19|    San Jose|    8/6/2013|\n",
      "|        12|SJSU 4th at San C...|37.332808|-121.883891|       19|    San Jose|    8/7/2013|\n",
      "|        13|       St James Park|37.339301|-121.889937|       15|    San Jose|    8/6/2013|\n",
      "|        14|Arena Green / SAP...|37.332692|-121.900084|       19|    San Jose|    8/5/2013|\n",
      "|        16|SJSU - San Salvad...|37.333955|-121.877349|       15|    San Jose|    8/7/2013|\n",
      "|        21|   Franklin at Maple|37.481758|-122.226904|       15|Redwood City|   8/12/2013|\n",
      "|        22|Redwood City Calt...|37.486078|-122.232089|       25|Redwood City|   8/15/2013|\n",
      "|        23|San Mateo County ...|37.487616|-122.229951|       15|Redwood City|   8/15/2013|\n",
      "|        24|Redwood City Publ...|37.484219|-122.227424|       15|Redwood City|   8/12/2013|\n",
      "|        25|Stanford in Redwo...| 37.48537|-122.203288|       15|Redwood City|   8/12/2013|\n",
      "|        26|Redwood City Medi...|37.487682|-122.223492|       15|Redwood City|   8/12/2013|\n",
      "+----------+--------------------+---------+-----------+---------+------------+------------+\n",
      "only showing top 20 rows\n",
      "\n"
     ]
    }
   ],
   "source": [
    "final_station_df.show()"
   ]
  },
  {
   "cell_type": "code",
   "execution_count": 37,
   "metadata": {},
   "outputs": [
    {
     "name": "stdout",
     "output_type": "stream",
     "text": [
      "+--------------------+--------------------+--------------------+--------------------+\n",
      "|                   a|                   e|                   b|                  e2|\n",
      "+--------------------+--------------------+--------------------+--------------------+\n",
      "|[50, Harry Bridge...|[913460, 765, 8/3...|[70, San Francisc...|[846562, 693, 7/1...|\n",
      "|[50, Harry Bridge...|[913460, 765, 8/3...|[70, San Francisc...|[847142, 812, 7/1...|\n",
      "|[50, Harry Bridge...|[913460, 765, 8/3...|[70, San Francisc...|[847998, 592, 7/1...|\n",
      "|[50, Harry Bridge...|[913460, 765, 8/3...|[70, San Francisc...|[848471, 580, 7/1...|\n",
      "|[50, Harry Bridge...|[913460, 765, 8/3...|[70, San Francisc...|[848858, 709, 7/1...|\n",
      "|[50, Harry Bridge...|[913460, 765, 8/3...|[70, San Francisc...|[848963, 587, 7/1...|\n",
      "|[50, Harry Bridge...|[913460, 765, 8/3...|[70, San Francisc...|[848970, 659, 7/1...|\n",
      "|[50, Harry Bridge...|[913460, 765, 8/3...|[70, San Francisc...|[849070, 509, 7/1...|\n",
      "|[50, Harry Bridge...|[913460, 765, 8/3...|[70, San Francisc...|[849643, 662, 7/1...|\n",
      "|[50, Harry Bridge...|[913460, 765, 8/3...|[70, San Francisc...|[849924, 755, 7/1...|\n",
      "|[50, Harry Bridge...|[913460, 765, 8/3...|[70, San Francisc...|[850073, 755, 7/1...|\n",
      "|[50, Harry Bridge...|[913460, 765, 8/3...|[70, San Francisc...|[850416, 774, 7/1...|\n",
      "|[50, Harry Bridge...|[913460, 765, 8/3...|[70, San Francisc...|[850434, 776, 7/1...|\n",
      "|[50, Harry Bridge...|[913460, 765, 8/3...|[70, San Francisc...|[850493, 811, 7/1...|\n",
      "|[50, Harry Bridge...|[913460, 765, 8/3...|[70, San Francisc...|[850558, 733, 7/1...|\n",
      "|[50, Harry Bridge...|[913460, 765, 8/3...|[70, San Francisc...|[850607, 661, 7/1...|\n",
      "|[50, Harry Bridge...|[913460, 765, 8/3...|[70, San Francisc...|[850705, 672, 7/1...|\n",
      "|[50, Harry Bridge...|[913460, 765, 8/3...|[70, San Francisc...|[850764, 590, 7/1...|\n",
      "|[50, Harry Bridge...|[913460, 765, 8/3...|[70, San Francisc...|[850769, 753, 7/1...|\n",
      "|[50, Harry Bridge...|[913460, 765, 8/3...|[70, San Francisc...|[851484, 768, 7/1...|\n",
      "+--------------------+--------------------+--------------------+--------------------+\n",
      "only showing top 20 rows\n",
      "\n"
     ]
    }
   ],
   "source": [
    "# Motif Findings\n",
    "\n",
    "# edge between a, b and also edge between b,a\n",
    "motifs = graph.find(\"(a)-[e]->(b); (b)-[e2]->(a)\")\n",
    "motifs.show()"
   ]
  },
  {
   "cell_type": "code",
   "execution_count": 38,
   "metadata": {},
   "outputs": [
    {
     "name": "stdout",
     "output_type": "stream",
     "text": [
      "+-------+--------+---------------+--------------------+--------------+---------------+--------------------+------------+------+---------------+--------+\n",
      "|Trip ID|Duration|     Start Date|                 src|Start Terminal|       End Date|                 dst|End Terminal|Bike #|Subscriber Type|Zip Code|\n",
      "+-------+--------+---------------+--------------------+--------------+---------------+--------------------+------------+------+---------------+--------+\n",
      "| 913296|     765|8/31/2015 19:20|       Howard at 2nd|            63|8/31/2015 19:33|     Townsend at 7th|          65|   564|     Subscriber|   94116|\n",
      "| 864402|     765|7/27/2015 20:20|Mountain View Cit...|            27|7/27/2015 20:32|Rengstorff Avenue...|          33|   715|       Customer|     nil|\n",
      "| 865412|     765|7/28/2015 14:42|Broadway St at Ba...|            82|7/28/2015 14:55|     2nd at Townsend|          61|   425|     Subscriber|   94025|\n",
      "| 864740|     765| 7/28/2015 8:12|San Francisco Cal...|            69| 7/28/2015 8:25|Harry Bridges Pla...|          50|   498|     Subscriber|   94086|\n",
      "| 866574|     765| 7/29/2015 7:54|South Van Ness at...|            66| 7/29/2015 8:07|   Market at Sansome|          77|   533|     Subscriber|   94102|\n",
      "| 864344|     765|7/27/2015 19:29|     Townsend at 7th|            65|7/27/2015 19:42|       2nd at Folsom|          62|   478|     Subscriber|   94105|\n",
      "| 863947|     765|7/27/2015 17:18|      Post at Kearny|            47|7/27/2015 17:31|San Francisco Cal...|          69|   420|     Subscriber|   94010|\n",
      "| 857743|     765|7/22/2015 17:15|     Townsend at 7th|            65|7/22/2015 17:28|South Van Ness at...|          66|   877|     Subscriber|   94551|\n",
      "| 862037|     765|7/25/2015 18:23|   Steuart at Market|            74|7/25/2015 18:36|San Francisco Cal...|          70|   410|       Customer|   94087|\n",
      "| 866183|     765|7/28/2015 19:34|South Van Ness at...|            66|7/28/2015 19:46|Temporary Transba...|          55|   268|     Subscriber|   94611|\n",
      "| 860986|     765|7/24/2015 15:38|   Steuart at Market|            74|7/24/2015 15:51|Civic Center BART...|          72|   448|     Subscriber|   94610|\n",
      "| 860887|     765|7/24/2015 14:04|South Van Ness at...|            66|7/24/2015 14:17|Mechanics Plaza (...|          75|   314|     Subscriber|   94103|\n",
      "| 859382|     765|7/23/2015 16:41|Embarcadero at Fo...|            51|7/23/2015 16:54|San Francisco Cal...|          70|   288|       Customer|   94102|\n",
      "| 854315|     765|7/20/2015 17:33|Santa Clara Count...|            80|7/20/2015 17:45|    San Pedro Square|           6|   679|     Subscriber|   95110|\n",
      "| 852470|     765| 7/19/2015 8:07|Embarcadero at Br...|            54| 7/19/2015 8:20|Temporary Transba...|          55|   468|     Subscriber|   94105|\n",
      "| 850970|     765| 7/17/2015 9:54|San Francisco Cal...|            69|7/17/2015 10:07|   Steuart at Market|          74|   623|     Subscriber|   94002|\n",
      "| 849169|     765| 7/16/2015 9:17|   Steuart at Market|            74| 7/16/2015 9:30|Embarcadero at Va...|          48|   581|     Subscriber|   94553|\n",
      "| 848295|     765|7/15/2015 17:50|Embarcadero at Sa...|            60|7/15/2015 18:03|     Beale at Market|          56|   487|     Subscriber|   94577|\n",
      "| 848040|     765|7/15/2015 16:51|     Clay at Battery|            41|7/15/2015 17:04|San Francisco Cal...|          69|   265|     Subscriber|   94401|\n",
      "| 861970|     765|7/25/2015 16:46|Harry Bridges Pla...|            50|7/25/2015 16:59|Powell at Post (U...|          71|   448|     Subscriber|   94108|\n",
      "+-------+--------+---------------+--------------------+--------------+---------------+--------------------+------------+------+---------------+--------+\n",
      "only showing top 20 rows\n",
      "\n"
     ]
    }
   ],
   "source": [
    "# Stateful Queries\n",
    "# Get Edges with duration greater than 500\n",
    "graph.edges.filter(\"duration > 764\").sort(\"duration\").show()"
   ]
  },
  {
   "cell_type": "code",
   "execution_count": 39,
   "metadata": {},
   "outputs": [
    {
     "name": "stdout",
     "output_type": "stream",
     "text": [
      "GraphFrame(v:[id: string, station_id: string ... 5 more fields], e:[src: string, dst: string ... 9 more fields])\n"
     ]
    }
   ],
   "source": [
    "# Subgraphs\n",
    "subgraph_vertices = graph.vertices.filter(\"dockcount > 25\")\n",
    "subgraph_edges = graph.edges.filter(\"duration > 500\")\n",
    "subgraph = GraphFrame(subgraph_vertices,subgraph_edges)\n",
    "print(subgraph)"
   ]
  },
  {
   "cell_type": "code",
   "execution_count": 40,
   "metadata": {},
   "outputs": [
    {
     "name": "stdout",
     "output_type": "stream",
     "text": [
      "+----------+--------------------+---------+-----------+---------+-------------+------------+\n",
      "|station_id|                  id|      lat|       long|dockcount|     landmark|installation|\n",
      "+----------+--------------------+---------+-----------+---------+-------------+------------+\n",
      "|         2|San Jose Diridon ...|37.329732|-121.901782|       27|     San Jose|    8/6/2013|\n",
      "|        67|      Market at 10th|37.776619|-122.417385|       27|San Francisco|   8/23/2013|\n",
      "|        61|     2nd at Townsend|37.780526|-122.390288|       27|San Francisco|   8/22/2013|\n",
      "|        77|   Market at Sansome|37.789625|-122.400811|       27|San Francisco|   8/25/2013|\n",
      "+----------+--------------------+---------+-----------+---------+-------------+------------+\n",
      "\n"
     ]
    }
   ],
   "source": [
    "# Printing Subgraph vertices\n",
    "subgraph.vertices.show()"
   ]
  },
  {
   "cell_type": "code",
   "execution_count": 41,
   "metadata": {},
   "outputs": [
    {
     "name": "stdout",
     "output_type": "stream",
     "text": [
      "+-------+--------+---------------+--------------------+--------------+---------------+--------------------+------------+------+---------------+--------+\n",
      "|Trip ID|Duration|     Start Date|                 src|Start Terminal|       End Date|                 dst|End Terminal|Bike #|Subscriber Type|Zip Code|\n",
      "+-------+--------+---------------+--------------------+--------------+---------------+--------------------+------------+------+---------------+--------+\n",
      "| 913460|     765|8/31/2015 23:26|Harry Bridges Pla...|            50|8/31/2015 23:39|San Francisco Cal...|          70|   288|     Subscriber|    2139|\n",
      "| 913459|    1036|8/31/2015 23:11|San Antonio Shopp...|            31|8/31/2015 23:28|Mountain View Cit...|          27|    35|     Subscriber|   95032|\n",
      "| 913453|     789|8/31/2015 23:09|Embarcadero at Fo...|            51|8/31/2015 23:22|Embarcadero at Sa...|          60|   487|       Customer|    9069|\n",
      "| 913451|     896|8/31/2015 23:07|Embarcadero at Fo...|            51|8/31/2015 23:22|Embarcadero at Sa...|          60|   363|       Customer|   92562|\n",
      "| 913448|     932|8/31/2015 21:57|      Post at Kearny|            47|8/31/2015 22:12|South Van Ness at...|          66|   472|     Subscriber|   94702|\n",
      "| 913443|     691|8/31/2015 21:49|Embarcadero at Sa...|            60|8/31/2015 22:01|   Market at Sansome|          77|   434|     Subscriber|   94109|\n",
      "| 913442|     633|8/31/2015 21:44|      Market at 10th|            67|8/31/2015 21:54|San Francisco Cal...|          70|   531|     Subscriber|   94107|\n",
      "| 913432|     703|8/31/2015 21:16|     Spear at Folsom|            49|8/31/2015 21:28|San Francisco Cal...|          69|   426|     Subscriber|   95032|\n",
      "| 913431|     605|8/31/2015 21:11|Temporary Transba...|            55|8/31/2015 21:21|Grant Avenue at C...|          73|   572|     Subscriber|   94133|\n",
      "| 913429|     902|8/31/2015 21:07|San Francisco Cal...|            70|8/31/2015 21:22|Broadway St at Ba...|          82|   501|     Subscriber|   94133|\n",
      "| 913419|     704|8/31/2015 20:58|   Steuart at Market|            74|8/31/2015 21:10|San Francisco Cal...|          70|   579|     Subscriber|   94158|\n",
      "| 913410|     709|8/31/2015 20:46|Embarcadero at Sa...|            60|8/31/2015 20:58|Embarcadero at Br...|          54|   553|     Subscriber|   94105|\n",
      "| 913401|     509|8/31/2015 20:34|Civic Center BART...|            72|8/31/2015 20:42|     Beale at Market|          56|   562|     Subscriber|   94577|\n",
      "| 913400|     671|8/31/2015 20:33|     2nd at Townsend|            61|8/31/2015 20:45|Powell at Post (U...|          71|    33|       Customer|   43214|\n",
      "| 913386|    1808|8/31/2015 20:23|Embarcadero at Br...|            54|8/31/2015 20:53|Harry Bridges Pla...|          50|   524|     Subscriber|   94105|\n",
      "| 913383|    1435|8/31/2015 20:20|     2nd at Townsend|            61|8/31/2015 20:44|Embarcadero at Sa...|          60|   604|       Customer|   98103|\n",
      "| 913382|     645|8/31/2015 20:20|     Townsend at 7th|            65|8/31/2015 20:31|Harry Bridges Pla...|          50|   270|     Subscriber|   94945|\n",
      "| 913380|     776|8/31/2015 20:15|   Market at Sansome|            77|8/31/2015 20:28|San Francisco Cal...|          70|    29|     Subscriber|   94087|\n",
      "| 913379|     803|8/31/2015 20:15|     Spear at Folsom|            49|8/31/2015 20:28|     Townsend at 7th|          65|   607|     Subscriber|   94107|\n",
      "| 913372|     523|8/31/2015 20:10|San Francisco Cal...|            69|8/31/2015 20:18|Harry Bridges Pla...|          50|   625|     Subscriber|   94107|\n",
      "+-------+--------+---------------+--------------------+--------------+---------------+--------------------+------------+------+---------------+--------+\n",
      "only showing top 20 rows\n",
      "\n"
     ]
    }
   ],
   "source": [
    "# Printing subgraph edges\n",
    "subgraph.edges.show()"
   ]
  },
  {
   "cell_type": "markdown",
   "metadata": {},
   "source": [
    "# Bonus Part"
   ]
  },
  {
   "cell_type": "code",
   "execution_count": 42,
   "metadata": {},
   "outputs": [
    {
     "name": "stdout",
     "output_type": "stream",
     "text": [
      "+--------------------+------+\n",
      "|                  id|degree|\n",
      "+--------------------+------+\n",
      "|       2nd at Folsom|  1801|\n",
      "|California Ave Ca...|   176|\n",
      "|Powell at Post (U...|  1426|\n",
      "| Golden Gate at Polk|  1042|\n",
      "|Yerba Buena Cente...|  1368|\n",
      "|   Market at Sansome|  3513|\n",
      "|     Spear at Folsom|  1692|\n",
      "|         MLK Library|   274|\n",
      "|           Japantown|   303|\n",
      "|Commercial at Mon...|  1669|\n",
      "|Paseo de San Antonio|   384|\n",
      "| San Salvador at 1st|   123|\n",
      "|Rengstorff Avenue...|   212|\n",
      "|     Townsend at 7th|  4034|\n",
      "|Civic Center BART...|  1905|\n",
      "|         Ryland Park|   271|\n",
      "|San Jose Diridon ...|  1411|\n",
      "|San Jose Civic Ce...|   156|\n",
      "|          Mezes Park|    45|\n",
      "|                null|     1|\n",
      "+--------------------+------+\n",
      "only showing top 20 rows\n",
      "\n"
     ]
    }
   ],
   "source": [
    "# 1.Vertex degree\n",
    "graph.degrees.show()"
   ]
  },
  {
   "cell_type": "code",
   "execution_count": 43,
   "metadata": {},
   "outputs": [
    {
     "name": "stdout",
     "output_type": "stream",
     "text": [
      "+--------------------+--------------------+-----+\n",
      "|                 src|                 dst|count|\n",
      "+--------------------+--------------------+-----+\n",
      "|     Townsend at 7th|San Francisco Cal...|  558|\n",
      "|Harry Bridges Pla...|Embarcadero at Sa...|  514|\n",
      "|San Francisco Cal...|     Townsend at 7th|  465|\n",
      "|Embarcadero at Sa...|   Steuart at Market|  455|\n",
      "|     2nd at Townsend|Harry Bridges Pla...|  445|\n",
      "|Embarcadero at Fo...|San Francisco Cal...|  413|\n",
      "|  Powell Street BART|San Francisco Cal...|  406|\n",
      "|Temporary Transba...|San Francisco Cal...|  397|\n",
      "|      Market at 10th|San Francisco Cal...|  394|\n",
      "|   Steuart at Market|     2nd at Townsend|  390|\n",
      "+--------------------+--------------------+-----+\n",
      "\n"
     ]
    }
   ],
   "source": [
    "# 2.most common destinations\n",
    "common_destinations = graph.edges.groupBy(\"src\", \"dst\").count().orderBy(desc(\"count\")).limit(10)\n",
    "common_destinations.show()"
   ]
  },
  {
   "cell_type": "code",
   "execution_count": 55,
   "metadata": {},
   "outputs": [
    {
     "name": "stdout",
     "output_type": "stream",
     "text": [
      "+--------------------+------------------+\n",
      "|                  id|       degreeRatio|\n",
      "+--------------------+------------------+\n",
      "|San Mateo County ...|               3.0|\n",
      "|Redwood City Medi...|               1.4|\n",
      "|San Francisco Cal...| 1.343956704750451|\n",
      "|    San Pedro Square| 1.319327731092437|\n",
      "|       Park at Olive| 1.309090909090909|\n",
      "|   Franklin at Maple|1.2857142857142858|\n",
      "| San Salvador at 1st|1.2363636363636363|\n",
      "|Stanford in Redwo...|1.2280701754385965|\n",
      "|   Market at Sansome|1.2164037854889589|\n",
      "|SJSU 4th at San C...|               1.2|\n",
      "+--------------------+------------------+\n",
      "\n"
     ]
    }
   ],
   "source": [
    "# 3.highest ratio of in degrees but fewest out degrees\n",
    "inDegrees = graph.inDegrees\n",
    "outDegrees = graph.outDegrees\n",
    "degreeRatio = inDegrees.join(outDegrees, inDegrees[\"id\"] == outDegrees[\"id\"]).drop(outDegrees[\"id\"]).selectExpr(\"id\", \"double(inDegree)/double(outDegree) as degreeRatio\")\n",
    "degreeRatio.orderBy(desc(\"degreeRatio\")).limit(10).show()"
   ]
  },
  {
   "cell_type": "code",
   "execution_count": 58,
   "metadata": {},
   "outputs": [],
   "source": [
    "# 4.Save graphs generated to a file.\n",
    "graph.vertices.coalesce(1).write.csv(\"vertices\")\n",
    "graph.edges.coalesce(1).write.csv(\"edges\")"
   ]
  },
  {
   "cell_type": "code",
   "execution_count": null,
   "metadata": {},
   "outputs": [],
   "source": []
  }
 ],
 "metadata": {
  "kernelspec": {
   "display_name": "Python 3",
   "language": "python",
   "name": "python3"
  },
  "language_info": {
   "codemirror_mode": {
    "name": "ipython",
    "version": 3
   },
   "file_extension": ".py",
   "mimetype": "text/x-python",
   "name": "python",
   "nbconvert_exporter": "python",
   "pygments_lexer": "ipython3",
   "version": "3.7.7"
  }
 },
 "nbformat": 4,
 "nbformat_minor": 4
}
