{
 "cells": [
  {
   "cell_type": "code",
   "execution_count": 3,
   "metadata": {},
   "outputs": [],
   "source": [
    "from pyspark.sql import SparkSession\n",
    "from pyspark.sql import *\n",
    "from pyspark.sql.types import DoubleType,IntegerType\n",
    "import pyspark.sql.functions as F\n",
    "from pyspark.ml.feature import VectorAssembler\n",
    "from pyspark.ml.linalg import SparseVector\n",
    "from pyspark.ml.classification import NaiveBayes\n",
    "from pyspark.ml.evaluation import MulticlassClassificationEvaluator"
   ]
  },
  {
   "cell_type": "code",
   "execution_count": 4,
   "metadata": {},
   "outputs": [],
   "source": [
    "spark = SparkSession.builder.appName(\"Classification\").getOrCreate()"
   ]
  },
  {
   "cell_type": "code",
   "execution_count": 10,
   "metadata": {},
   "outputs": [
    {
     "name": "stdout",
     "output_type": "stream",
     "text": [
      "+---+----------------+------+------------+---------------+------------------+-----------------+-------------+------------------+------+------------+------------+--------------+--------------+------+\n",
      "|age|       workclass|fnlwgt|   education|educational-num|    marital-status|       occupation| relationship|              race|gender|capital-gain|capital-loss|hours-per-week|native-country|income|\n",
      "+---+----------------+------+------------+---------------+------------------+-----------------+-------------+------------------+------+------------+------------+--------------+--------------+------+\n",
      "| 25|         Private|226802|        11th|              7|     Never-married|Machine-op-inspct|    Own-child|             Black|  Male|           0|           0|            40| United-States| <=50K|\n",
      "| 38|         Private| 89814|     HS-grad|              9|Married-civ-spouse|  Farming-fishing|      Husband|             White|  Male|           0|           0|            50| United-States| <=50K|\n",
      "| 28|       Local-gov|336951|  Assoc-acdm|             12|Married-civ-spouse|  Protective-serv|      Husband|             White|  Male|           0|           0|            40| United-States|  >50K|\n",
      "| 44|         Private|160323|Some-college|             10|Married-civ-spouse|Machine-op-inspct|      Husband|             Black|  Male|        7688|           0|            40| United-States|  >50K|\n",
      "| 18|               ?|103497|Some-college|             10|     Never-married|                ?|    Own-child|             White|Female|           0|           0|            30| United-States| <=50K|\n",
      "| 34|         Private|198693|        10th|              6|     Never-married|    Other-service|Not-in-family|             White|  Male|           0|           0|            30| United-States| <=50K|\n",
      "| 29|               ?|227026|     HS-grad|              9|     Never-married|                ?|    Unmarried|             Black|  Male|           0|           0|            40| United-States| <=50K|\n",
      "| 63|Self-emp-not-inc|104626| Prof-school|             15|Married-civ-spouse|   Prof-specialty|      Husband|             White|  Male|        3103|           0|            32| United-States|  >50K|\n",
      "| 24|         Private|369667|Some-college|             10|     Never-married|    Other-service|    Unmarried|             White|Female|           0|           0|            40| United-States| <=50K|\n",
      "| 55|         Private|104996|     7th-8th|              4|Married-civ-spouse|     Craft-repair|      Husband|             White|  Male|           0|           0|            10| United-States| <=50K|\n",
      "| 65|         Private|184454|     HS-grad|              9|Married-civ-spouse|Machine-op-inspct|      Husband|             White|  Male|        6418|           0|            40| United-States|  >50K|\n",
      "| 36|     Federal-gov|212465|   Bachelors|             13|Married-civ-spouse|     Adm-clerical|      Husband|             White|  Male|           0|           0|            40| United-States| <=50K|\n",
      "| 26|         Private| 82091|     HS-grad|              9|     Never-married|     Adm-clerical|Not-in-family|             White|Female|           0|           0|            39| United-States| <=50K|\n",
      "| 58|               ?|299831|     HS-grad|              9|Married-civ-spouse|                ?|      Husband|             White|  Male|           0|           0|            35| United-States| <=50K|\n",
      "| 48|         Private|279724|     HS-grad|              9|Married-civ-spouse|Machine-op-inspct|      Husband|             White|  Male|        3103|           0|            48| United-States|  >50K|\n",
      "| 43|         Private|346189|     Masters|             14|Married-civ-spouse|  Exec-managerial|      Husband|             White|  Male|           0|           0|            50| United-States|  >50K|\n",
      "| 20|       State-gov|444554|Some-college|             10|     Never-married|    Other-service|    Own-child|             White|  Male|           0|           0|            25| United-States| <=50K|\n",
      "| 43|         Private|128354|     HS-grad|              9|Married-civ-spouse|     Adm-clerical|         Wife|             White|Female|           0|           0|            30| United-States| <=50K|\n",
      "| 37|         Private| 60548|     HS-grad|              9|           Widowed|Machine-op-inspct|    Unmarried|             White|Female|           0|           0|            20| United-States| <=50K|\n",
      "| 40|         Private| 85019|   Doctorate|             16|Married-civ-spouse|   Prof-specialty|      Husband|Asian-Pac-Islander|  Male|           0|           0|            45|             ?|  >50K|\n",
      "+---+----------------+------+------------+---------------+------------------+-----------------+-------------+------------------+------+------------+------------+--------------+--------------+------+\n",
      "only showing top 20 rows\n",
      "\n"
     ]
    }
   ],
   "source": [
    "adult_data_df = spark.read.load(\"adult.csv\", format=\"csv\",delimiter=\",\", header=True)\n",
    "adult_data_df.show()"
   ]
  },
  {
   "cell_type": "code",
   "execution_count": 11,
   "metadata": {},
   "outputs": [
    {
     "name": "stdout",
     "output_type": "stream",
     "text": [
      "root\n",
      " |-- age: string (nullable = true)\n",
      " |-- workclass: string (nullable = true)\n",
      " |-- fnlwgt: string (nullable = true)\n",
      " |-- education: string (nullable = true)\n",
      " |-- educational-num: string (nullable = true)\n",
      " |-- marital-status: string (nullable = true)\n",
      " |-- occupation: string (nullable = true)\n",
      " |-- relationship: string (nullable = true)\n",
      " |-- race: string (nullable = true)\n",
      " |-- gender: string (nullable = true)\n",
      " |-- capital-gain: string (nullable = true)\n",
      " |-- capital-loss: string (nullable = true)\n",
      " |-- hours-per-week: string (nullable = true)\n",
      " |-- native-country: string (nullable = true)\n",
      " |-- income: string (nullable = true)\n",
      "\n"
     ]
    }
   ],
   "source": [
    "adult_data_df.printSchema()"
   ]
  },
  {
   "cell_type": "code",
   "execution_count": 14,
   "metadata": {},
   "outputs": [],
   "source": [
    "adult_data_df = adult_data_df.withColumn(\"age\", adult_data_df[\"age\"].cast(IntegerType()))\n",
    "adult_data_df = adult_data_df.withColumn(\"fnlwgt\", adult_data_df[\"fnlwgt\"].cast(IntegerType()))\n",
    "adult_data_df = adult_data_df.withColumn(\"educational-num\", adult_data_df[\"educational-num\"].cast(IntegerType()))\n",
    "adult_data_df = adult_data_df.withColumn(\"capital-gain\", adult_data_df[\"capital-gain\"].cast(IntegerType()))\n",
    "adult_data_df = adult_data_df.withColumn(\"capital-loss\", adult_data_df[\"capital-loss\"].cast(IntegerType()))\n",
    "adult_data_df = adult_data_df.withColumn(\"hours-per-week\", adult_data_df[\"hours-per-week\"].cast(IntegerType()))"
   ]
  },
  {
   "cell_type": "code",
   "execution_count": 15,
   "metadata": {},
   "outputs": [
    {
     "name": "stdout",
     "output_type": "stream",
     "text": [
      "root\n",
      " |-- age: integer (nullable = true)\n",
      " |-- workclass: string (nullable = true)\n",
      " |-- fnlwgt: integer (nullable = true)\n",
      " |-- education: string (nullable = true)\n",
      " |-- educational-num: integer (nullable = true)\n",
      " |-- marital-status: string (nullable = true)\n",
      " |-- occupation: string (nullable = true)\n",
      " |-- relationship: string (nullable = true)\n",
      " |-- race: string (nullable = true)\n",
      " |-- gender: string (nullable = true)\n",
      " |-- capital-gain: integer (nullable = true)\n",
      " |-- capital-loss: integer (nullable = true)\n",
      " |-- hours-per-week: integer (nullable = true)\n",
      " |-- native-country: string (nullable = true)\n",
      " |-- income: string (nullable = true)\n",
      "\n"
     ]
    }
   ],
   "source": [
    "adult_data_df.printSchema()"
   ]
  },
  {
   "cell_type": "code",
   "execution_count": 19,
   "metadata": {},
   "outputs": [
    {
     "name": "stdout",
     "output_type": "stream",
     "text": [
      "+--------------+\n",
      "|hours-per-week|\n",
      "+--------------+\n",
      "|            40|\n",
      "|            50|\n",
      "|            40|\n",
      "|            40|\n",
      "|            30|\n",
      "|            30|\n",
      "|            40|\n",
      "|            32|\n",
      "|            40|\n",
      "|            10|\n",
      "|            40|\n",
      "|            40|\n",
      "|            39|\n",
      "|            35|\n",
      "|            48|\n",
      "|            50|\n",
      "|            25|\n",
      "|            30|\n",
      "|            20|\n",
      "|            45|\n",
      "+--------------+\n",
      "only showing top 20 rows\n",
      "\n"
     ]
    }
   ],
   "source": [
    "adult_data_df.select(['hours-per-week']).show()"
   ]
  },
  {
   "cell_type": "code",
   "execution_count": 20,
   "metadata": {},
   "outputs": [
    {
     "name": "stdout",
     "output_type": "stream",
     "text": [
      "root\n",
      " |-- age: integer (nullable = true)\n",
      " |-- workclass: string (nullable = true)\n",
      " |-- fnlwgt: integer (nullable = true)\n",
      " |-- education: string (nullable = true)\n",
      " |-- educational-num: integer (nullable = true)\n",
      " |-- marital-status: string (nullable = true)\n",
      " |-- occupation: string (nullable = true)\n",
      " |-- relationship: string (nullable = true)\n",
      " |-- race: string (nullable = true)\n",
      " |-- gender: string (nullable = true)\n",
      " |-- capital-gain: integer (nullable = true)\n",
      " |-- capital-loss: integer (nullable = true)\n",
      " |-- hours-per-week: integer (nullable = true)\n",
      " |-- native-country: string (nullable = true)\n",
      " |-- income: string (nullable = true)\n",
      " |-- label: integer (nullable = true)\n",
      "\n"
     ]
    }
   ],
   "source": [
    "adult_data_df = adult_data_df.withColumn(\"label\", adult_data_df['hours-per-week'] - 0)\n",
    "adult_data_df.printSchema()"
   ]
  },
  {
   "cell_type": "code",
   "execution_count": 21,
   "metadata": {},
   "outputs": [
    {
     "name": "stdout",
     "output_type": "stream",
     "text": [
      "+-----+\n",
      "|label|\n",
      "+-----+\n",
      "|   40|\n",
      "|   50|\n",
      "|   40|\n",
      "|   40|\n",
      "|   30|\n",
      "|   30|\n",
      "|   40|\n",
      "|   32|\n",
      "|   40|\n",
      "|   10|\n",
      "|   40|\n",
      "|   40|\n",
      "|   39|\n",
      "|   35|\n",
      "|   48|\n",
      "|   50|\n",
      "|   25|\n",
      "|   30|\n",
      "|   20|\n",
      "|   45|\n",
      "+-----+\n",
      "only showing top 20 rows\n",
      "\n"
     ]
    }
   ],
   "source": [
    "adult_data_df.select(['label']).show()"
   ]
  },
  {
   "cell_type": "code",
   "execution_count": 22,
   "metadata": {},
   "outputs": [
    {
     "name": "stdout",
     "output_type": "stream",
     "text": [
      "+---+---------+------+------------+---------------+------------------+-----------------+------------+-----+------+------------+------------+--------------+--------------+------+-----+-----------------+\n",
      "|age|workclass|fnlwgt|   education|educational-num|    marital-status|       occupation|relationship| race|gender|capital-gain|capital-loss|hours-per-week|native-country|income|label|         features|\n",
      "+---+---------+------+------------+---------------+------------------+-----------------+------------+-----+------+------------+------------+--------------+--------------+------+-----+-----------------+\n",
      "| 25|  Private|226802|        11th|              7|     Never-married|Machine-op-inspct|   Own-child|Black|  Male|           0|           0|            40| United-States| <=50K|   40|   [0.0,0.0,40.0]|\n",
      "| 38|  Private| 89814|     HS-grad|              9|Married-civ-spouse|  Farming-fishing|     Husband|White|  Male|           0|           0|            50| United-States| <=50K|   50|   [0.0,0.0,50.0]|\n",
      "| 28|Local-gov|336951|  Assoc-acdm|             12|Married-civ-spouse|  Protective-serv|     Husband|White|  Male|           0|           0|            40| United-States|  >50K|   40|   [0.0,0.0,40.0]|\n",
      "| 44|  Private|160323|Some-college|             10|Married-civ-spouse|Machine-op-inspct|     Husband|Black|  Male|        7688|           0|            40| United-States|  >50K|   40|[7688.0,0.0,40.0]|\n",
      "| 18|        ?|103497|Some-college|             10|     Never-married|                ?|   Own-child|White|Female|           0|           0|            30| United-States| <=50K|   30|   [0.0,0.0,30.0]|\n",
      "+---+---------+------+------------+---------------+------------------+-----------------+------------+-----+------+------------+------------+--------------+--------------+------+-----+-----------------+\n",
      "only showing top 5 rows\n",
      "\n"
     ]
    }
   ],
   "source": [
    "assem = VectorAssembler(inputCols=adult_data_df.columns[10:13], outputCol='features')\n",
    "x = assem.transform(adult_data_df)\n",
    "x.show(5)"
   ]
  },
  {
   "cell_type": "code",
   "execution_count": 24,
   "metadata": {},
   "outputs": [
    {
     "name": "stdout",
     "output_type": "stream",
     "text": [
      "+---+---------+------+---------+---------------+--------------+----------+------------+-----+------+------------+------------+--------------+--------------+------+-----+--------------+--------------------+--------------------+----------+\n",
      "|age|workclass|fnlwgt|education|educational-num|marital-status|occupation|relationship| race|gender|capital-gain|capital-loss|hours-per-week|native-country|income|label|      features|       rawPrediction|         probability|prediction|\n",
      "+---+---------+------+---------+---------------+--------------+----------+------------+-----+------+------------+------------+--------------+--------------+------+-----+--------------+--------------------+--------------------+----------+\n",
      "| 17|        ?| 27251|     11th|              7|       Widowed|         ?|   Own-child|White|  Male|           0|           0|            40| United-States| <=50K|   40|[0.0,0.0,40.0]|[-216.22124837812...|[5.33104903932566...|       8.0|\n",
      "| 17|        ?| 34088|     12th|              8| Never-married|         ?|   Own-child|White|Female|           0|           0|            25| United-States| <=50K|   25|[0.0,0.0,25.0]|[-137.91140717365...|[4.69465328745918...|       8.0|\n",
      "| 17|        ?| 34505|     11th|              7| Never-married|         ?|   Own-child|White|  Male|           0|           0|            50| United-States| <=50K|   50|[0.0,0.0,50.0]|[-268.42780918109...|[1.24746333870971...|       8.0|\n",
      "+---+---------+------+---------+---------------+--------------+----------+------------+-----+------+------------+------------+--------------+--------------+------+-----+--------------+--------------------+--------------------+----------+\n",
      "only showing top 3 rows\n",
      "\n",
      "Test set accuracy = 0.004074979625101874\n"
     ]
    }
   ],
   "source": [
    "train,test = x.randomSplit([0.6, 0.4], 1234)\n",
    "nb1 = NaiveBayes(smoothing=1.0, modelType=\"multinomial\")\n",
    "model1 = nb1.fit(train)\n",
    "predictions = model1.transform(test)\n",
    "predictions.show(3)\n",
    "evaluator = MulticlassClassificationEvaluator(labelCol=\"label\", predictionCol=\"prediction\",\n",
    "                                              metricName=\"accuracy\")\n",
    "accuracy = evaluator.evaluate(predictions)\n",
    "print(\"Test set accuracy = \" + str(accuracy))"
   ]
  },
  {
   "cell_type": "code",
   "execution_count": 25,
   "metadata": {},
   "outputs": [
    {
     "name": "stdout",
     "output_type": "stream",
     "text": [
      "+---+---------+------+---------+---------------+--------------+----------+------------+-----+------+------------+------------+--------------+--------------+------+-----+--------------+--------------------+--------------------+----------+\n",
      "|age|workclass|fnlwgt|education|educational-num|marital-status|occupation|relationship| race|gender|capital-gain|capital-loss|hours-per-week|native-country|income|label|      features|       rawPrediction|         probability|prediction|\n",
      "+---+---------+------+---------+---------------+--------------+----------+------------+-----+------+------------+------------+--------------+--------------+------+-----+--------------+--------------------+--------------------+----------+\n",
      "| 17|        ?| 27251|     11th|              7|       Widowed|         ?|   Own-child|White|  Male|           0|           0|            40| United-States| <=50K|   40|[0.0,0.0,40.0]|[-199.94766668123...|[3.45913667958139...|      79.0|\n",
      "| 17|        ?| 34088|     12th|              8| Never-married|         ?|   Own-child|White|Female|           0|           0|            25| United-States| <=50K|   25|[0.0,0.0,25.0]|[-127.59870710673...|[3.69666612603153...|      79.0|\n",
      "| 17|        ?| 34505|     11th|              7| Never-married|         ?|   Own-child|White|  Male|           0|           0|            50| United-States| <=50K|   50|[0.0,0.0,50.0]|[-248.18030639756...|[6.29115537161059...|      79.0|\n",
      "+---+---------+------+---------+---------------+--------------+----------+------------+-----+------+------------+------------+--------------+--------------+------+-----+--------------+--------------------+--------------------+----------+\n",
      "only showing top 3 rows\n",
      "\n",
      "Test set accuracy = 0.00020374898125509371\n"
     ]
    }
   ],
   "source": [
    "nb2 = NaiveBayes(smoothing=10.0, modelType=\"multinomial\")\n",
    "\n",
    "# train the model\n",
    "model2 = nb2.fit(train)\n",
    "\n",
    "# select example rows to display.\n",
    "predictions = model2.transform(test)\n",
    "predictions.show(3)\n",
    "# compute accuracy on the test set\n",
    "evaluator = MulticlassClassificationEvaluator(labelCol=\"label\", predictionCol=\"prediction\",\n",
    "                                              metricName=\"accuracy\")\n",
    "accuracy = evaluator.evaluate(predictions)\n",
    "print(\"Test set accuracy = \" + str(accuracy))"
   ]
  },
  {
   "cell_type": "code",
   "execution_count": 26,
   "metadata": {},
   "outputs": [
    {
     "name": "stdout",
     "output_type": "stream",
     "text": [
      "+---+---------+------+---------+---------------+--------------+----------+------------+-----+------+------------+------------+--------------+--------------+------+-----+--------------+--------------------+--------------------+----------+\n",
      "|age|workclass|fnlwgt|education|educational-num|marital-status|occupation|relationship| race|gender|capital-gain|capital-loss|hours-per-week|native-country|income|label|      features|       rawPrediction|         probability|prediction|\n",
      "+---+---------+------+---------+---------------+--------------+----------+------------+-----+------+------------+------------+--------------+--------------+------+-----+--------------+--------------------+--------------------+----------+\n",
      "| 17|        ?| 27251|     11th|              7|       Widowed|         ?|   Own-child|White|  Male|           0|           0|            40| United-States| <=50K|   40|[0.0,0.0,40.0]|[0.0,0.0,0.0,0.0,...|[0.0,0.0,0.0,0.0,...|      40.0|\n",
      "| 17|        ?| 34088|     12th|              8| Never-married|         ?|   Own-child|White|Female|           0|           0|            25| United-States| <=50K|   25|[0.0,0.0,25.0]|[0.0,0.0,0.0,0.0,...|[0.0,0.0,0.0,0.0,...|      25.0|\n",
      "| 17|        ?| 34505|     11th|              7| Never-married|         ?|   Own-child|White|  Male|           0|           0|            50| United-States| <=50K|   50|[0.0,0.0,50.0]|[0.0,0.0,0.0,0.0,...|[0.0,0.0,0.0,0.0,...|      50.0|\n",
      "+---+---------+------+---------+---------------+--------------+----------+------------+-----+------+------------+------------+--------------+--------------+------+-----+--------------+--------------------+--------------------+----------+\n",
      "only showing top 3 rows\n",
      "\n",
      "Test set accuracy = 0.8823349633251834\n"
     ]
    }
   ],
   "source": [
    "from pyspark.ml.classification import DecisionTreeClassifier\n",
    "nb3 = DecisionTreeClassifier(labelCol=\"label\", featuresCol=\"features\")\n",
    "# train the model\n",
    "model3 = nb3.fit(train)\n",
    "# select example rows to display.\n",
    "predictions = model3.transform(test)\n",
    "predictions.show(3)\n",
    "# compute accuracy on the test set\n",
    "evaluator = MulticlassClassificationEvaluator(labelCol=\"label\", predictionCol=\"prediction\",\n",
    "                                              metricName=\"accuracy\")\n",
    "accuracy = evaluator.evaluate(predictions)\n",
    "print(\"Test set accuracy = \" + str(accuracy))"
   ]
  },
  {
   "cell_type": "code",
   "execution_count": 27,
   "metadata": {},
   "outputs": [
    {
     "name": "stdout",
     "output_type": "stream",
     "text": [
      "+---+---------+------+---------+---------------+--------------+----------+------------+-----+------+------------+------------+--------------+--------------+------+-----+--------------+--------------------+--------------------+----------+\n",
      "|age|workclass|fnlwgt|education|educational-num|marital-status|occupation|relationship| race|gender|capital-gain|capital-loss|hours-per-week|native-country|income|label|      features|       rawPrediction|         probability|prediction|\n",
      "+---+---------+------+---------+---------------+--------------+----------+------------+-----+------+------------+------------+--------------+--------------+------+-----+--------------+--------------------+--------------------+----------+\n",
      "| 17|        ?| 27251|     11th|              7|       Widowed|         ?|   Own-child|White|  Male|           0|           0|            40| United-States| <=50K|   40|[0.0,0.0,40.0]|[0.0,5.3699924820...|[0.0,5.3699924820...|      40.0|\n",
      "| 17|        ?| 34088|     12th|              8| Never-married|         ?|   Own-child|White|Female|           0|           0|            25| United-States| <=50K|   25|[0.0,0.0,25.0]|[0.0,0.0248430341...|[0.0,0.0024843034...|      20.0|\n",
      "| 17|        ?| 34505|     11th|              7| Never-married|         ?|   Own-child|White|  Male|           0|           0|            50| United-States| <=50K|   50|[0.0,0.0,50.0]|[0.0,0.0,0.0,0.0,...|[0.0,0.0,0.0,0.0,...|      50.0|\n",
      "+---+---------+------+---------+---------------+--------------+----------+------------+-----+------+------------+------------+--------------+--------------+------+-----+--------------+--------------------+--------------------+----------+\n",
      "only showing top 3 rows\n",
      "\n",
      "Test set accuracy = 0.7991544417277914\n"
     ]
    }
   ],
   "source": [
    "from pyspark.ml.classification import RandomForestClassifier\n",
    "# create the trainer and set its parameters\n",
    "nb3 = RandomForestClassifier(labelCol=\"label\", featuresCol=\"features\", numTrees=10)\n",
    "# train the model\n",
    "model3 = nb3.fit(train)\n",
    "# select example rows to display.\n",
    "predictions = model3.transform(test)\n",
    "predictions.show(3)\n",
    "# compute accuracy on the test set\n",
    "evaluator = MulticlassClassificationEvaluator(labelCol=\"label\", predictionCol=\"prediction\",\n",
    "                                              metricName=\"accuracy\")\n",
    "accuracy = evaluator.evaluate(predictions)\n",
    "print(\"Test set accuracy = \" + str(accuracy))"
   ]
  },
  {
   "cell_type": "code",
   "execution_count": 28,
   "metadata": {},
   "outputs": [
    {
     "name": "stdout",
     "output_type": "stream",
     "text": [
      "+---+---------+------+---------+---------------+--------------+----------+------------+-----+------+------------+------------+--------------+--------------+------+-----+--------------+--------------------+--------------------+----------+\n",
      "|age|workclass|fnlwgt|education|educational-num|marital-status|occupation|relationship| race|gender|capital-gain|capital-loss|hours-per-week|native-country|income|label|      features|       rawPrediction|         probability|prediction|\n",
      "+---+---------+------+---------+---------------+--------------+----------+------------+-----+------+------------+------------+--------------+--------------+------+-----+--------------+--------------------+--------------------+----------+\n",
      "| 17|        ?| 27251|     11th|              7|       Widowed|         ?|   Own-child|White|  Male|           0|           0|            40| United-States| <=50K|   40|[0.0,0.0,40.0]|[0.0,0.0015785429...|[0.0,1.5785429419...|      40.0|\n",
      "| 17|        ?| 34088|     12th|              8| Never-married|         ?|   Own-child|White|Female|           0|           0|            25| United-States| <=50K|   25|[0.0,0.0,25.0]|[0.0,0.3342714941...|[0.0,0.0033427149...|      20.0|\n",
      "| 17|        ?| 34505|     11th|              7| Never-married|         ?|   Own-child|White|  Male|           0|           0|            50| United-States| <=50K|   50|[0.0,0.0,50.0]|[0.0,0.0,0.0,0.0,...|[0.0,0.0,0.0,0.0,...|      50.0|\n",
      "+---+---------+------+---------+---------------+--------------+----------+------------+-----+------+------------+------------+--------------+--------------+------+-----+--------------+--------------------+--------------------+----------+\n",
      "only showing top 3 rows\n",
      "\n",
      "Test set accuracy = 0.8386817440912795\n"
     ]
    }
   ],
   "source": [
    "from pyspark.ml.classification import RandomForestClassifier\n",
    "# create the trainer and set its parameters\n",
    "nb3 = RandomForestClassifier(labelCol=\"label\", featuresCol=\"features\", numTrees=100)\n",
    "# train the model\n",
    "model3 = nb3.fit(train)\n",
    "# select example rows to display.\n",
    "predictions = model3.transform(test)\n",
    "predictions.show(3)\n",
    "# compute accuracy on the test set\n",
    "evaluator = MulticlassClassificationEvaluator(labelCol=\"label\", predictionCol=\"prediction\",\n",
    "                                              metricName=\"accuracy\")\n",
    "accuracy = evaluator.evaluate(predictions)\n",
    "print(\"Test set accuracy = \" + str(accuracy))"
   ]
  },
  {
   "cell_type": "code",
   "execution_count": null,
   "metadata": {},
   "outputs": [],
   "source": []
  }
 ],
 "metadata": {
  "kernelspec": {
   "display_name": "Python 3",
   "language": "python",
   "name": "python3"
  },
  "language_info": {
   "codemirror_mode": {
    "name": "ipython",
    "version": 3
   },
   "file_extension": ".py",
   "mimetype": "text/x-python",
   "name": "python",
   "nbconvert_exporter": "python",
   "pygments_lexer": "ipython3",
   "version": "3.7.7"
  }
 },
 "nbformat": 4,
 "nbformat_minor": 4
}
