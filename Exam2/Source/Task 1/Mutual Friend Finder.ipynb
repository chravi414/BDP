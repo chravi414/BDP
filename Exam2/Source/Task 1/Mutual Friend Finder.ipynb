{
 "cells": [
  {
   "cell_type": "code",
   "execution_count": 1,
   "metadata": {},
   "outputs": [],
   "source": [
    "# Importing Libraries\n",
    "from pyspark import SparkContext"
   ]
  },
  {
   "cell_type": "code",
   "execution_count": 2,
   "metadata": {},
   "outputs": [],
   "source": [
    "# Creating Spark Context Instance\n",
    "sc = SparkContext.getOrCreate()"
   ]
  },
  {
   "cell_type": "code",
   "execution_count": 3,
   "metadata": {},
   "outputs": [],
   "source": [
    "# Data Formatter\n",
    "def format_input(value):\n",
    "    key = value.split(\" \")[0]\n",
    "    frnd = value.split(\" \")[1]\n",
    "    return key, frnd"
   ]
  },
  {
   "cell_type": "code",
   "execution_count": 4,
   "metadata": {},
   "outputs": [],
   "source": [
    "# Mapper \n",
    "def friendmap(value):\n",
    "    frnds_list = value[1]\n",
    "    current_frnd = value[0]\n",
    "    keys = []\n",
    "\n",
    "    for friend in frnds_list:\n",
    "        key_value = ''\n",
    "        if current_frnd < friend:\n",
    "            key_value = current_frnd + \",\" +friend\n",
    "        else:\n",
    "            key_value = friend + \",\" +current_frnd\n",
    "        keys.append((''.join(key_value), frnds_list))\n",
    "    return keys"
   ]
  },
  {
   "cell_type": "code",
   "execution_count": 5,
   "metadata": {},
   "outputs": [],
   "source": [
    "# Reading Input\n",
    "Lines = sc.textFile(\"facebook_combined.txt\", 1)"
   ]
  },
  {
   "cell_type": "code",
   "execution_count": 6,
   "metadata": {},
   "outputs": [],
   "source": [
    "# Preprocessing the data\n",
    "formatted_data = Lines.map(format_input).groupByKey().map(lambda x : (x[0], list(x[1])))\n",
    "formatted_data.saveAsTextFile('dataset_formatted')"
   ]
  },
  {
   "cell_type": "code",
   "execution_count": 7,
   "metadata": {},
   "outputs": [],
   "source": [
    "Line = formatted_data.flatMap(friendmap)"
   ]
  },
  {
   "cell_type": "code",
   "execution_count": 8,
   "metadata": {},
   "outputs": [],
   "source": [
    "def get_num(x): \n",
    "    length = len(x) \n",
    "    common = [] \n",
    "    for i in range(length): \n",
    "        k = i + 1\n",
    "        for j in range(k, length): \n",
    "            if x[i] == x[j] and x[i] not in common: \n",
    "                common.append(x[i]) \n",
    "    return common\n",
    "result = Line.reduceByKey(lambda x, y : x+y).map(lambda x: (x[0],get_num(x[1])))"
   ]
  },
  {
   "cell_type": "code",
   "execution_count": 9,
   "metadata": {},
   "outputs": [],
   "source": [
    "result.saveAsTextFile(\"mutual_friends_output_for_dataset\")"
   ]
  },
  {
   "cell_type": "code",
   "execution_count": null,
   "metadata": {},
   "outputs": [],
   "source": []
  }
 ],
 "metadata": {
  "kernelspec": {
   "display_name": "Python 3",
   "language": "python",
   "name": "python3"
  },
  "language_info": {
   "codemirror_mode": {
    "name": "ipython",
    "version": 3
   },
   "file_extension": ".py",
   "mimetype": "text/x-python",
   "name": "python",
   "nbconvert_exporter": "python",
   "pygments_lexer": "ipython3",
   "version": "3.7.7"
  }
 },
 "nbformat": 4,
 "nbformat_minor": 4
}
